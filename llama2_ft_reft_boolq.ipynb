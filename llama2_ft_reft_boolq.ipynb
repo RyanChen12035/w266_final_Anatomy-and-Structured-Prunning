{
  "cells": [
    {
      "cell_type": "markdown",
      "metadata": {
        "id": "view-in-github",
        "colab_type": "text"
      },
      "source": [
        "<a href=\"https://colab.research.google.com/github/RyanChen12035/w266_final_Anatomy-and-Structured-Prunning/blob/main/llama2_ft_reft_boolq.ipynb\" target=\"_parent\"><img src=\"https://colab.research.google.com/assets/colab-badge.svg\" alt=\"Open In Colab\"/></a>"
      ]
    },
    {
      "cell_type": "code",
      "execution_count": null,
      "id": "5664054e-874d-48b8-8a58-b267f0c5c31a",
      "metadata": {
        "id": "5664054e-874d-48b8-8a58-b267f0c5c31a"
      },
      "outputs": [],
      "source": [
        "try:\n",
        "    # This library is our indicator that the required installs\n",
        "    # need to be done.\n",
        "    import pyreft\n",
        "\n",
        "except ModuleNotFoundError:\n",
        "    !pip install git+https://github.com/stanfordnlp/pyreft.git"
      ]
    },
    {
      "cell_type": "code",
      "execution_count": null,
      "id": "5feff457-fd71-4f64-97eb-c045cbbec4a8",
      "metadata": {
        "id": "5feff457-fd71-4f64-97eb-c045cbbec4a8",
        "outputId": "b9a927e7-c4dd-4ffb-e68e-59390cba8f30",
        "colab": {
          "base_uri": "https://localhost:8080/",
          "height": 280,
          "referenced_widgets": [
            "3101f7298fbc4a08a096c8ac201d81a4",
            "2c1adbb7446a47b0b38f8414e9755ce2",
            "963e960424244ee9b768dfe7eda740ee",
            "750f8960c37446639a7348d9028286bf",
            "cf8c3d3cbc72457e9c04e66d41fd9060",
            "d861f739f7a245d6807ef02552777417",
            "004d8acbe9ec41eca5e9a179bb8a89f2",
            "384c8a42a124416d918c0888d527ea55",
            "c591066dc3fc427b9295b530d85ed2ec",
            "3be223afd3e345419011bfe111f1259d",
            "e13a8f211d494f0e88ae3858ec366ea9"
          ]
        }
      },
      "outputs": [
        {
          "output_type": "stream",
          "name": "stderr",
          "text": [
            "/usr/local/lib/python3.10/dist-packages/huggingface_hub/utils/_token.py:88: UserWarning: \n",
            "The secret `HF_TOKEN` does not exist in your Colab secrets.\n",
            "To authenticate with the Hugging Face Hub, create a token in your settings tab (https://huggingface.co/settings/tokens), set it as secret in your Google Colab and restart your session.\n",
            "You will be able to reuse this secret in all of your notebooks.\n",
            "Please note that authentication is recommended but still optional to access public models or datasets.\n",
            "  warnings.warn(\n"
          ]
        },
        {
          "output_type": "display_data",
          "data": {
            "text/plain": [
              "Loading checkpoint shards:   0%|          | 0/2 [00:00<?, ?it/s]"
            ],
            "application/vnd.jupyter.widget-view+json": {
              "version_major": 2,
              "version_minor": 0,
              "model_id": "3101f7298fbc4a08a096c8ac201d81a4"
            }
          },
          "metadata": {}
        },
        {
          "output_type": "stream",
          "name": "stderr",
          "text": [
            "/usr/local/lib/python3.10/dist-packages/transformers/generation/configuration_utils.py:492: UserWarning: `do_sample` is set to `False`. However, `temperature` is set to `0.9` -- this flag is only used in sample-based generation modes. You should set `do_sample=True` or unset `temperature`. This was detected when initializing the generation config instance, which means the corresponding file may hold incorrect parameterization and should be fixed.\n",
            "  warnings.warn(\n",
            "/usr/local/lib/python3.10/dist-packages/transformers/generation/configuration_utils.py:497: UserWarning: `do_sample` is set to `False`. However, `top_p` is set to `0.6` -- this flag is only used in sample-based generation modes. You should set `do_sample=True` or unset `top_p`. This was detected when initializing the generation config instance, which means the corresponding file may hold incorrect parameterization and should be fixed.\n",
            "  warnings.warn(\n",
            "/usr/local/lib/python3.10/dist-packages/transformers/generation/configuration_utils.py:492: UserWarning: `do_sample` is set to `False`. However, `temperature` is set to `0.9` -- this flag is only used in sample-based generation modes. You should set `do_sample=True` or unset `temperature`.\n",
            "  warnings.warn(\n",
            "/usr/local/lib/python3.10/dist-packages/transformers/generation/configuration_utils.py:497: UserWarning: `do_sample` is set to `False`. However, `top_p` is set to `0.6` -- this flag is only used in sample-based generation modes. You should set `do_sample=True` or unset `top_p`.\n",
            "  warnings.warn(\n"
          ]
        }
      ],
      "source": [
        "import torch, transformers, pyreft\n",
        "device = \"cuda\"\n",
        "\n",
        "prompt_no_input_template = \"\"\"\\n<|user|>:%s</s>\\n<|assistant|>:\"\"\"\n",
        "\n",
        "model_name_or_path = \"NousResearch/Llama-2-7b-hf\"\n",
        "model = transformers.AutoModelForCausalLM.from_pretrained(\n",
        "    model_name_or_path, torch_dtype=torch.bfloat16, device_map=device)\n",
        "\n",
        "# get tokenizer\n",
        "tokenizer = transformers.AutoTokenizer.from_pretrained(\n",
        "    model_name_or_path, model_max_length=2048,\n",
        "    padding_side=\"right\", use_fast=False)\n",
        "tokenizer.pad_token = tokenizer.unk_token"
      ]
    },
    {
      "cell_type": "code",
      "execution_count": null,
      "id": "09db87aa-b589-4af2-a430-bf39f7f4f797",
      "metadata": {
        "id": "09db87aa-b589-4af2-a430-bf39f7f4f797",
        "outputId": "894be74a-f0f7-4aae-e3a7-9989568e631d",
        "colab": {
          "base_uri": "https://localhost:8080/"
        }
      },
      "outputs": [
        {
          "output_type": "stream",
          "name": "stdout",
          "text": [
            "trainable intervention params: 131,088 || trainable model params: 0\n",
            "model params: 6,738,415,616 || trainable%: 0.0019453831207552515\n"
          ]
        }
      ],
      "source": [
        "# get reft model\n",
        "reft_config = pyreft.ReftConfig(representations={\n",
        "    \"layer\": 15, \"component\": \"block_output\",\n",
        "    \"low_rank_dimension\": 16,\n",
        "    \"intervention\": pyreft.LoreftIntervention(embed_dim=model.config.hidden_size,\n",
        "    low_rank_dimension=16)})\n",
        "reft_model = pyreft.get_reft_model(model, reft_config)\n",
        "reft_model.set_device(\"cuda\")\n",
        "reft_model.print_trainable_parameters()\n",
        "\n",
        "# r = 16, layer = 21, trainable intervention params: 131,088 || trainable model params: 0 || model params: 6,738,415,616 || trainable%: 0.0019453831207552515\n",
        "#  r = 16, layer = 2, trainable intervention params: 131,088 || trainable model params: 0 || model params: 6,738,415,616 || trainable%: 0.0019453831207552515\n",
        "#  r = 16, layer = 15, trainable intervention params: 131,088 || trainable model params: 0 || model params: 6,738,415,616 || trainable%: 0.0019453831207552515"
      ]
    },
    {
      "cell_type": "code",
      "source": [
        "from google.colab import drive\n",
        "drive.mount('/content/drive')"
      ],
      "metadata": {
        "id": "y42D9pjTHwPT",
        "outputId": "8cfbe3be-84a8-4c01-9c89-b3c36eb195cf",
        "colab": {
          "base_uri": "https://localhost:8080/"
        }
      },
      "id": "y42D9pjTHwPT",
      "execution_count": null,
      "outputs": [
        {
          "output_type": "stream",
          "name": "stdout",
          "text": [
            "Drive already mounted at /content/drive; to attempt to forcibly remount, call drive.mount(\"/content/drive\", force_remount=True).\n"
          ]
        }
      ]
    },
    {
      "cell_type": "code",
      "source": [
        "import pandas as pd\n",
        "df = pd.read_csv('/content/drive/MyDrive/boolq_500.csv')\n",
        "X = df['question'].values\n",
        "y = df['label_y'].values"
      ],
      "metadata": {
        "id": "43DA85nDHwRO"
      },
      "id": "43DA85nDHwRO",
      "execution_count": null,
      "outputs": []
    },
    {
      "cell_type": "code",
      "source": [
        "def template_prompt_engineering(example):\n",
        "  # add system template of Llama2 and prompt engineering for the boolq task\n",
        "  example = f\"\"\"Please answer the following queation with true or false, question: {example}?\\n\\nAnswer format: true/false\"\"\"\n",
        "  example = f\"\"\"<s>[INST]<<sys>>Below is an instruction that describes a task. Write a response that appropriately completes the request<</sys>>\n",
        "        ### Instruction:\n",
        "        {example}[/INST]\n",
        "\n",
        "        ### Response:\n",
        "        \"\"\"\n",
        "  return example"
      ],
      "metadata": {
        "id": "HQ0_L-RoHwUC"
      },
      "id": "HQ0_L-RoHwUC",
      "execution_count": null,
      "outputs": []
    },
    {
      "cell_type": "code",
      "source": [
        "data_module = pyreft.make_last_position_supervised_data_module(\n",
        "    tokenizer,\n",
        "    model,\n",
        "    [template_prompt_engineering(x) for x in X],\n",
        "    y\n",
        ")"
      ],
      "metadata": {
        "id": "quXZq75zHwXB"
      },
      "id": "quXZq75zHwXB",
      "execution_count": null,
      "outputs": []
    },
    {
      "cell_type": "code",
      "source": [
        "[template_prompt_engineering(x) for x in X][0]"
      ],
      "metadata": {
        "id": "dg81D5KYL7lY",
        "outputId": "de70854a-45a7-4864-d7b5-027699d7aed4",
        "colab": {
          "base_uri": "https://localhost:8080/",
          "height": 70
        }
      },
      "id": "dg81D5KYL7lY",
      "execution_count": null,
      "outputs": [
        {
          "output_type": "execute_result",
          "data": {
            "text/plain": [
              "'<s>[INST]<<sys>>Below is an instruction that describes a task. Write a response that appropriately completes the request<</sys>>\\n        ### Instruction:\\n        Please answer the following queation with true or false, question: do iran and afghanistan speak the same language?\\n\\nAnswer format: true/false[/INST]\\n\\n        ### Response:\\n        '"
            ],
            "application/vnd.google.colaboratory.intrinsic+json": {
              "type": "string"
            }
          },
          "metadata": {},
          "execution_count": 28
        }
      ]
    },
    {
      "cell_type": "code",
      "source": [
        "y[0]"
      ],
      "metadata": {
        "id": "ks0-X75-L_H8",
        "outputId": "ff4a6e21-8133-4cfb-a5cd-53bc82fccbfb",
        "colab": {
          "base_uri": "https://localhost:8080/",
          "height": 35
        }
      },
      "id": "ks0-X75-L_H8",
      "execution_count": null,
      "outputs": [
        {
          "output_type": "execute_result",
          "data": {
            "text/plain": [
              "'the correct answer is true'"
            ],
            "application/vnd.google.colaboratory.intrinsic+json": {
              "type": "string"
            }
          },
          "metadata": {},
          "execution_count": 29
        }
      ]
    },
    {
      "cell_type": "code",
      "execution_count": null,
      "id": "06190132-acab-41e3-a659-c85286d1496b",
      "metadata": {
        "id": "06190132-acab-41e3-a659-c85286d1496b",
        "outputId": "d0fe7fcb-30e5-4db8-ed75-14816802bd11",
        "colab": {
          "base_uri": "https://localhost:8080/",
          "height": 169
        }
      },
      "outputs": [
        {
          "output_type": "display_data",
          "data": {
            "text/plain": [
              "<IPython.core.display.HTML object>"
            ],
            "text/html": [
              "\n",
              "    <div>\n",
              "      \n",
              "      <progress value='150' max='150' style='width:300px; height:20px; vertical-align: middle;'></progress>\n",
              "      [150/150 01:31, Epoch 3/3]\n",
              "    </div>\n",
              "    <table border=\"1\" class=\"dataframe\">\n",
              "  <thead>\n",
              " <tr style=\"text-align: left;\">\n",
              "      <th>Step</th>\n",
              "      <th>Training Loss</th>\n",
              "    </tr>\n",
              "  </thead>\n",
              "  <tbody>\n",
              "    <tr>\n",
              "      <td>40</td>\n",
              "      <td>0.361900</td>\n",
              "    </tr>\n",
              "    <tr>\n",
              "      <td>80</td>\n",
              "      <td>0.115500</td>\n",
              "    </tr>\n",
              "    <tr>\n",
              "      <td>120</td>\n",
              "      <td>0.108900</td>\n",
              "    </tr>\n",
              "  </tbody>\n",
              "</table><p>"
            ]
          },
          "metadata": {}
        }
      ],
      "source": [
        "# train\n",
        "training_args = transformers.TrainingArguments(\n",
        "    num_train_epochs=3, output_dir=\"./tmp\", per_device_train_batch_size=10,\n",
        "    learning_rate=4e-3, logging_steps=40, report_to=[])\n",
        "trainer = pyreft.ReftTrainerForCausalLM(\n",
        "    model=reft_model, tokenizer=tokenizer, args=training_args, **data_module)\n",
        "_ = trainer.train()"
      ]
    },
    {
      "cell_type": "code",
      "source": [
        "reft_model.set_device(\"cpu\") # send back to cpu before saving.\n",
        "reft_model.save(\n",
        "    save_directory=\"./reft_llama2\",\n",
        ")"
      ],
      "metadata": {
        "id": "ozKM0sKdH4C1",
        "outputId": "147be60c-aa64-44a0-d117-43218885253d",
        "colab": {
          "base_uri": "https://localhost:8080/"
        }
      },
      "id": "ozKM0sKdH4C1",
      "execution_count": null,
      "outputs": [
        {
          "output_type": "stream",
          "name": "stdout",
          "text": [
            "Directory './reft_llama2' already exists.\n"
          ]
        }
      ]
    },
    {
      "cell_type": "code",
      "source": [
        "model = transformers.AutoModelForCausalLM.from_pretrained(\n",
        "    model_name_or_path, torch_dtype=torch.bfloat16, device_map=device)"
      ],
      "metadata": {
        "id": "fHZa3kHrINLx",
        "outputId": "160a5475-4b4d-4e64-f574-35e5b2d2877c",
        "colab": {
          "base_uri": "https://localhost:8080/",
          "height": 176,
          "referenced_widgets": [
            "835dabd5f0fd47e388587ba86ee7e0f7",
            "bc8c2debd9a3408398e8f0020ab0e1c5",
            "8ae2971b40ed48e3a772595d07842b91",
            "030ed643d9144ec09a6a9ad3fbdcb45e",
            "d359d8b9b13948a3a463e5603cfb1e89",
            "7b6f06349df243bbba296db7afe46dd4",
            "eb59c57667a64918a4501f0d84528bdf",
            "d1ffccf61db740aeab9b3a1829d50d52",
            "79bb56a3727c444ca14964f738876a42",
            "a2a91972464445caaff2456cff32f687",
            "bbd4551239b5441c9dd6747895de95d1"
          ]
        }
      },
      "id": "fHZa3kHrINLx",
      "execution_count": null,
      "outputs": [
        {
          "output_type": "display_data",
          "data": {
            "text/plain": [
              "Loading checkpoint shards:   0%|          | 0/2 [00:00<?, ?it/s]"
            ],
            "application/vnd.jupyter.widget-view+json": {
              "version_major": 2,
              "version_minor": 0,
              "model_id": "835dabd5f0fd47e388587ba86ee7e0f7"
            }
          },
          "metadata": {}
        },
        {
          "output_type": "stream",
          "name": "stderr",
          "text": [
            "/usr/local/lib/python3.10/dist-packages/transformers/generation/configuration_utils.py:492: UserWarning: `do_sample` is set to `False`. However, `temperature` is set to `0.9` -- this flag is only used in sample-based generation modes. You should set `do_sample=True` or unset `temperature`. This was detected when initializing the generation config instance, which means the corresponding file may hold incorrect parameterization and should be fixed.\n",
            "  warnings.warn(\n",
            "/usr/local/lib/python3.10/dist-packages/transformers/generation/configuration_utils.py:497: UserWarning: `do_sample` is set to `False`. However, `top_p` is set to `0.6` -- this flag is only used in sample-based generation modes. You should set `do_sample=True` or unset `top_p`. This was detected when initializing the generation config instance, which means the corresponding file may hold incorrect parameterization and should be fixed.\n",
            "  warnings.warn(\n",
            "/usr/local/lib/python3.10/dist-packages/transformers/generation/configuration_utils.py:492: UserWarning: `do_sample` is set to `False`. However, `temperature` is set to `0.9` -- this flag is only used in sample-based generation modes. You should set `do_sample=True` or unset `temperature`.\n",
            "  warnings.warn(\n",
            "/usr/local/lib/python3.10/dist-packages/transformers/generation/configuration_utils.py:497: UserWarning: `do_sample` is set to `False`. However, `top_p` is set to `0.6` -- this flag is only used in sample-based generation modes. You should set `do_sample=True` or unset `top_p`.\n",
            "  warnings.warn(\n"
          ]
        }
      ]
    },
    {
      "cell_type": "code",
      "source": [
        "# # Load the reft model\n",
        "reft_model = pyreft.ReftModel.load(\"./reft_llama2\", model)\n",
        "reft_model.set_device('cuda')"
      ],
      "metadata": {
        "id": "nOCfCipcH-yi",
        "outputId": "9d05dc6b-1a82-4f50-b835-0496969410e6",
        "colab": {
          "base_uri": "https://localhost:8080/"
        }
      },
      "id": "nOCfCipcH-yi",
      "execution_count": null,
      "outputs": [
        {
          "output_type": "stream",
          "name": "stderr",
          "text": [
            "WARNING:root:The key is provided in the config. Assuming this is loaded from a pretrained module.\n",
            "WARNING:root:The key is provided in the config. Assuming this is loaded from a pretrained module.\n"
          ]
        }
      ]
    },
    {
      "cell_type": "code",
      "execution_count": null,
      "id": "2926dd1a-9a03-4605-a187-de21ecee6c86",
      "metadata": {
        "id": "2926dd1a-9a03-4605-a187-de21ecee6c86",
        "outputId": "49325d15-85d8-44e4-b82e-2757a68cdf89",
        "colab": {
          "base_uri": "https://localhost:8080/"
        }
      },
      "outputs": [
        {
          "output_type": "stream",
          "name": "stderr",
          "text": [
            "/usr/local/lib/python3.10/dist-packages/transformers/generation/configuration_utils.py:535: UserWarning: `num_beams` is set to 1. However, `early_stopping` is set to `True` -- this flag is only used in beam-based generation modes. You should set `num_beams>1` or unset `early_stopping`.\n",
            "  warnings.warn(\n"
          ]
        },
        {
          "output_type": "stream",
          "name": "stdout",
          "text": [
            "[INST]<<sys>>Below is an instruction that describes a task. Write a response that appropriately completes the request<</sys>>\n",
            "        ### Instruction:\n",
            "        Please answer the following queation with true or false, question: does ethanol take more energy make that produces??\n",
            "\n",
            "Answer format: true/false[/INST]\n",
            "\n",
            "        ### Response:\n",
            "         the correct answer is true\n"
          ]
        }
      ],
      "source": [
        "def template_prompt_engineering(example):\n",
        "  # add system template of Llama2 and prompt engineering for the boolq task\n",
        "  example = f\"\"\"Please answer the following queation with true or false, question: {example}?\\n\\nAnswer format: true/false\"\"\"\n",
        "  example = f\"\"\"<s>[INST]<<sys>>Below is an instruction that describes a task. Write a response that appropriately completes the request<</sys>>\n",
        "        ### Instruction:\n",
        "        {example}[/INST]\n",
        "\n",
        "        ### Response:\n",
        "        \"\"\"\n",
        "  return example\n",
        "\n",
        "prompt = template_prompt_engineering(\"does ethanol take more energy make that produces?\")\n",
        "prompt = tokenizer(prompt, return_tensors='pt').to('cuda')\n",
        "\n",
        "base_unit_location = prompt[\"input_ids\"].shape[-1] - 1  # last position\n",
        "_, reft_response = reft_model.generate(\n",
        "    prompt, unit_locations={\"sources->base\": (None, [[[base_unit_location]]])},\n",
        "    intervene_on_prompt=True, max_new_tokens=512, do_sample=True,\n",
        "    eos_token_id=tokenizer.eos_token_id, early_stopping=True\n",
        ")\n",
        "print(tokenizer.decode(reft_response[0], skip_special_tokens=True))"
      ]
    },
    {
      "cell_type": "code",
      "source": [
        "# inference\n",
        "from tqdm.auto import tqdm\n",
        "import numpy as np\n",
        "\n",
        "\n",
        "predictions = []\n",
        "for prompt in tqdm(df['question'][:24]):\n",
        "    prompt = template_prompt_engineering(prompt)\n",
        "    prompt = tokenizer(prompt, return_tensors='pt').to('cuda')\n",
        "    base_unit_location = prompt[\"input_ids\"].shape[-1] - 1  # last position\n",
        "    _, reft_response = reft_model.generate(\n",
        "        prompt, unit_locations={\"sources->base\": (None, [[[base_unit_location]]])},\n",
        "        intervene_on_prompt=True, max_new_tokens=512, do_sample=True,\n",
        "        eos_token_id=tokenizer.eos_token_id, early_stopping=True\n",
        "    )\n",
        "    result_text = tokenizer.decode(reft_response[0], skip_special_tokens=True)\n",
        "    predictions.append(result_text[result_text.find('Response'):result_text.find('Response')+100])\n",
        "\n",
        "\n",
        "def extract_boolean_label(text):\n",
        "    text = text.lower()\n",
        "    if 'true' in text:\n",
        "        return 1\n",
        "    elif 'false' in text:\n",
        "        return 0\n",
        "    else:\n",
        "        return None\n",
        "\n",
        "binary_predictions = []\n",
        "for pred in predictions:\n",
        "    binary_predictions.append(extract_boolean_label(pred))\n",
        "\n",
        "binary_label = []\n",
        "for label in df['label_y'][:24]:\n",
        "    binary_label.append(extract_boolean_label(label))\n",
        "\n",
        "# Calculate accuracy\n",
        "accuracy = np.mean(np.array(binary_label) == np.array(binary_predictions))\n",
        "print(f'Accuracy: {accuracy * 100:.2f}%')"
      ],
      "metadata": {
        "id": "Yt5JEo4aJ395",
        "outputId": "100ee2eb-28e4-4e86-cace-55084b8920e1",
        "colab": {
          "base_uri": "https://localhost:8080/",
          "height": 89,
          "referenced_widgets": [
            "6d8ee2694be94b6380fd68fdc3a058b1",
            "e6e8d725f9dd4b48b324c660f98664ff",
            "be3fe6d98c874c8c813b833649f08077",
            "22d360263f05478d88218a7d8fd7b880",
            "51637df1072d4cd3992b83b174ee5e7a",
            "6ce72c8390e94e359557be233bd014b7",
            "70862009000a4d119a887d29ee2bad2e",
            "e0cc7946f6ca48848e24c307956a3772",
            "a51cfb72bdb245fe86c06035f72ca505",
            "01b946457a464984afb0409550d06940",
            "ffaa7a55ae2e49edbebb07abc651ed55"
          ]
        }
      },
      "id": "Yt5JEo4aJ395",
      "execution_count": null,
      "outputs": [
        {
          "output_type": "display_data",
          "data": {
            "text/plain": [
              "  0%|          | 0/24 [00:00<?, ?it/s]"
            ],
            "application/vnd.jupyter.widget-view+json": {
              "version_major": 2,
              "version_minor": 0,
              "model_id": "6d8ee2694be94b6380fd68fdc3a058b1"
            }
          },
          "metadata": {}
        },
        {
          "output_type": "stream",
          "name": "stderr",
          "text": [
            "/usr/local/lib/python3.10/dist-packages/transformers/generation/configuration_utils.py:535: UserWarning: `num_beams` is set to 1. However, `early_stopping` is set to `True` -- this flag is only used in beam-based generation modes. You should set `num_beams>1` or unset `early_stopping`.\n",
            "  warnings.warn(\n"
          ]
        },
        {
          "output_type": "stream",
          "name": "stdout",
          "text": [
            "Accuracy: 58.33%\n"
          ]
        }
      ]
    },
    {
      "cell_type": "code",
      "source": [
        "predictions\n",
        "\n",
        "# Reft,\n",
        "\n",
        "\n",
        "\n",
        "# 1 layer 21, r = 16, accuracy:54.17% trainable%: 0.0019453831207552515\n",
        "# 2 layer 2, r = 16, accuracy:58.33% trainable%: 0.0019453831207552515 --all positive\n",
        " # 2 layer 15, r = 16, accuracy:58.33% trainable%: 0.0019453831207552515 --all positive\n",
        "\n",
        "# 1\n",
        "# ['Response:\\n         the correct answer is false',\n",
        "#  'Response:\\n         the correct answer is true',\n",
        "#  'Response:\\n         the correct answer is false',\n",
        "#  'Response:\\n         the correct answer is true',\n",
        "#  'Response:\\n         the correct answer is false',\n",
        "#  'Response:\\n         the correct answer is true',\n",
        "#  'Response:\\n         the correct answer is true',\n",
        "#  'Response:\\n         the correct answer is false',\n",
        "#  'Response:\\n         the correct answer is true',\n",
        "#  'Response:\\n         the correct answer is false',\n",
        "#  'Response:\\n         the correct answer is true',\n",
        "#  'Response:\\n         the correct answer is true',\n",
        "#  'Response:\\n         the correct answer is true',\n",
        "#  'Response:\\n         the correct answer is true',\n",
        "#  'Response:\\n         the correct answer is true',\n",
        "#  'Response:\\n         the correct answer is true',\n",
        "#  'Response:\\n         the correct answer is true',\n",
        "#  'Response:\\n         the correct answer is true',\n",
        "#  'Response:\\n         the correct answer is true',\n",
        "#  'Response:\\n         the correct answer is true',\n",
        "#  'Response:\\n         the correct answer is true',\n",
        "#  'Response:\\n         the correct answer is true',\n",
        "#  'Response:\\n         the correct answer is true',\n",
        "#  'Response:\\n         the correct answer is true']\n",
        "\n",
        "#2\n",
        "# ['Response:\\n         the correct answer is true',\n",
        "#  'Response:\\n         the correct answer is true',\n",
        "#  'Response:\\n         the correct answer is true',\n",
        "#  'Response:\\n         the correct answer is true',\n",
        "#  'Response:\\n         the correct answer is true',\n",
        "#  'Response:\\n         the correct answer is true',\n",
        "#  'Response:\\n         the correct answer is true',\n",
        "#  'Response:\\n         the correct answer is true',\n",
        "#  'Response:\\n         the correct answer is true',\n",
        "#  'Response:\\n         the correct answer is true',\n",
        "#  'Response:\\n         the correct answer is true',\n",
        "#  'Response:\\n         the correct answer is true',\n",
        "#  'Response:\\n         the correct answer is true',\n",
        "#  'Response:\\n         the correct answer is true',\n",
        "#  'Response:\\n         the correct answer is true',\n",
        "#  'Response:\\n         the correct answer is true',\n",
        "#  'Response:\\n         the correct answer is true',\n",
        "#  'Response:\\n         the correct answer is true',\n",
        "#  'Response:\\n         the correct answer is true',\n",
        "#  'Response:\\n         the correct answer is true',\n",
        "#  'Response:\\n         the correct answer is true',\n",
        "#  'Response:\\n         the correct answer is true',\n",
        "#  'Response:\\n         the correct answer is true',\n",
        "#  'Response:\\n         the correct answer is true']\n",
        "\n",
        "#3\n",
        "# ['Response:\\n         the correct answer is true',\n",
        "#  'Response:\\n         the correct answer is true',\n",
        "#  'Response:\\n         the correct answer is true',\n",
        "#  'Response:\\n         the correct answer is true',\n",
        "#  'Response:\\n         the correct answer is true',\n",
        "#  'Response:\\n         the correct answer is true',\n",
        "#  'Response:\\n         the correct answer is true',\n",
        "#  'Response:\\n         the correct answer is true',\n",
        "#  'Response:\\n         the correct answer is true',\n",
        "#  'Response:\\n         the correct answer is true',\n",
        "#  'Response:\\n         the correct answer is true',\n",
        "#  'Response:\\n         the correct answer is true',\n",
        "#  'Response:\\n         the correct answer is true',\n",
        "#  'Response:\\n         the correct answer is true',\n",
        "#  'Response:\\n         the correct answer is true',\n",
        "#  'Response:\\n         the correct answer is true',\n",
        "#  'Response:\\n         the correct answer is true',\n",
        "#  'Response:\\n         the correct answer is true',\n",
        "#  'Response:\\n         the correct answer is true',\n",
        "#  'Response:\\n         the correct answer is true',\n",
        "#  'Response:\\n         the correct answer is true',\n",
        "#  'Response:\\n         the correct answer is true',\n",
        "#  'Response:\\n         the correct answer is true',\n",
        "#  'Response:\\n         the correct answer is true']\n",
        "\n",
        "\n",
        "\n",
        "\n",
        "\n",
        "\n",
        "\n",
        "\n",
        "\n",
        "\n",
        "\n",
        "\n",
        "# all true if the reft mounted on the begining layer\n",
        "# the format is more close to expected format than Qlora\n",
        "# accuracy is meaningless in this case."
      ],
      "metadata": {
        "id": "8aaqD7Y6LUAG",
        "outputId": "4aac2992-314c-4e0a-a1fa-d67992b20fd6",
        "colab": {
          "base_uri": "https://localhost:8080/"
        }
      },
      "id": "8aaqD7Y6LUAG",
      "execution_count": null,
      "outputs": [
        {
          "output_type": "execute_result",
          "data": {
            "text/plain": [
              "['Response:\\n         the correct answer is true',\n",
              " 'Response:\\n         the correct answer is true',\n",
              " 'Response:\\n         the correct answer is true',\n",
              " 'Response:\\n         the correct answer is true',\n",
              " 'Response:\\n         the correct answer is true',\n",
              " 'Response:\\n         the correct answer is true',\n",
              " 'Response:\\n         the correct answer is true',\n",
              " 'Response:\\n         the correct answer is true',\n",
              " 'Response:\\n         the correct answer is true',\n",
              " 'Response:\\n         the correct answer is true',\n",
              " 'Response:\\n         the correct answer is true',\n",
              " 'Response:\\n         the correct answer is true',\n",
              " 'Response:\\n         the correct answer is true',\n",
              " 'Response:\\n         the correct answer is true',\n",
              " 'Response:\\n         the correct answer is true',\n",
              " 'Response:\\n         the correct answer is true',\n",
              " 'Response:\\n         the correct answer is true',\n",
              " 'Response:\\n         the correct answer is true',\n",
              " 'Response:\\n         the correct answer is true',\n",
              " 'Response:\\n         the correct answer is true',\n",
              " 'Response:\\n         the correct answer is true',\n",
              " 'Response:\\n         the correct answer is true',\n",
              " 'Response:\\n         the correct answer is true',\n",
              " 'Response:\\n         the correct answer is true']"
            ]
          },
          "metadata": {},
          "execution_count": 13
        }
      ]
    },
    {
      "cell_type": "code",
      "source": [
        "binary_label"
      ],
      "metadata": {
        "id": "3567aTpnLbO7",
        "outputId": "3bcd8740-292c-4f2d-ba32-8bd40ba6e1a5",
        "colab": {
          "base_uri": "https://localhost:8080/"
        }
      },
      "id": "3567aTpnLbO7",
      "execution_count": null,
      "outputs": [
        {
          "output_type": "execute_result",
          "data": {
            "text/plain": [
              "[1, 1, 1, 1, 0, 0, 0, 0, 1, 1, 0, 0, 0, 1, 1, 0, 0, 1, 1, 1, 1, 1, 1, 0]"
            ]
          },
          "metadata": {},
          "execution_count": 26
        }
      ]
    }
  ],
  "metadata": {
    "kernelspec": {
      "display_name": "Python 3",
      "name": "python3"
    },
    "language_info": {
      "codemirror_mode": {
        "name": "ipython",
        "version": 3
      },
      "file_extension": ".py",
      "mimetype": "text/x-python",
      "name": "python",
      "nbconvert_exporter": "python",
      "pygments_lexer": "ipython3",
      "version": "3.10.13"
    },
    "colab": {
      "provenance": [],
      "machine_shape": "hm",
      "gpuType": "L4",
      "include_colab_link": true
    },
    "accelerator": "GPU",
    "widgets": {
      "application/vnd.jupyter.widget-state+json": {
        "3101f7298fbc4a08a096c8ac201d81a4": {
          "model_module": "@jupyter-widgets/controls",
          "model_name": "HBoxModel",
          "model_module_version": "2.0.0",
          "state": {
            "_dom_classes": [],
            "_model_module": "@jupyter-widgets/controls",
            "_model_module_version": "2.0.0",
            "_model_name": "HBoxModel",
            "_view_count": null,
            "_view_module": "@jupyter-widgets/controls",
            "_view_module_version": "2.0.0",
            "_view_name": "HBoxView",
            "box_style": "",
            "children": [
              "IPY_MODEL_2c1adbb7446a47b0b38f8414e9755ce2",
              "IPY_MODEL_963e960424244ee9b768dfe7eda740ee",
              "IPY_MODEL_750f8960c37446639a7348d9028286bf"
            ],
            "layout": "IPY_MODEL_cf8c3d3cbc72457e9c04e66d41fd9060",
            "tabbable": null,
            "tooltip": null
          }
        },
        "2c1adbb7446a47b0b38f8414e9755ce2": {
          "model_module": "@jupyter-widgets/controls",
          "model_name": "HTMLModel",
          "model_module_version": "2.0.0",
          "state": {
            "_dom_classes": [],
            "_model_module": "@jupyter-widgets/controls",
            "_model_module_version": "2.0.0",
            "_model_name": "HTMLModel",
            "_view_count": null,
            "_view_module": "@jupyter-widgets/controls",
            "_view_module_version": "2.0.0",
            "_view_name": "HTMLView",
            "description": "",
            "description_allow_html": false,
            "layout": "IPY_MODEL_d861f739f7a245d6807ef02552777417",
            "placeholder": "​",
            "style": "IPY_MODEL_004d8acbe9ec41eca5e9a179bb8a89f2",
            "tabbable": null,
            "tooltip": null,
            "value": "Loading checkpoint shards: 100%"
          }
        },
        "963e960424244ee9b768dfe7eda740ee": {
          "model_module": "@jupyter-widgets/controls",
          "model_name": "FloatProgressModel",
          "model_module_version": "2.0.0",
          "state": {
            "_dom_classes": [],
            "_model_module": "@jupyter-widgets/controls",
            "_model_module_version": "2.0.0",
            "_model_name": "FloatProgressModel",
            "_view_count": null,
            "_view_module": "@jupyter-widgets/controls",
            "_view_module_version": "2.0.0",
            "_view_name": "ProgressView",
            "bar_style": "success",
            "description": "",
            "description_allow_html": false,
            "layout": "IPY_MODEL_384c8a42a124416d918c0888d527ea55",
            "max": 2,
            "min": 0,
            "orientation": "horizontal",
            "style": "IPY_MODEL_c591066dc3fc427b9295b530d85ed2ec",
            "tabbable": null,
            "tooltip": null,
            "value": 2
          }
        },
        "750f8960c37446639a7348d9028286bf": {
          "model_module": "@jupyter-widgets/controls",
          "model_name": "HTMLModel",
          "model_module_version": "2.0.0",
          "state": {
            "_dom_classes": [],
            "_model_module": "@jupyter-widgets/controls",
            "_model_module_version": "2.0.0",
            "_model_name": "HTMLModel",
            "_view_count": null,
            "_view_module": "@jupyter-widgets/controls",
            "_view_module_version": "2.0.0",
            "_view_name": "HTMLView",
            "description": "",
            "description_allow_html": false,
            "layout": "IPY_MODEL_3be223afd3e345419011bfe111f1259d",
            "placeholder": "​",
            "style": "IPY_MODEL_e13a8f211d494f0e88ae3858ec366ea9",
            "tabbable": null,
            "tooltip": null,
            "value": " 2/2 [00:08&lt;00:00,  4.11s/it]"
          }
        },
        "cf8c3d3cbc72457e9c04e66d41fd9060": {
          "model_module": "@jupyter-widgets/base",
          "model_name": "LayoutModel",
          "model_module_version": "2.0.0",
          "state": {
            "_model_module": "@jupyter-widgets/base",
            "_model_module_version": "2.0.0",
            "_model_name": "LayoutModel",
            "_view_count": null,
            "_view_module": "@jupyter-widgets/base",
            "_view_module_version": "2.0.0",
            "_view_name": "LayoutView",
            "align_content": null,
            "align_items": null,
            "align_self": null,
            "border_bottom": null,
            "border_left": null,
            "border_right": null,
            "border_top": null,
            "bottom": null,
            "display": null,
            "flex": null,
            "flex_flow": null,
            "grid_area": null,
            "grid_auto_columns": null,
            "grid_auto_flow": null,
            "grid_auto_rows": null,
            "grid_column": null,
            "grid_gap": null,
            "grid_row": null,
            "grid_template_areas": null,
            "grid_template_columns": null,
            "grid_template_rows": null,
            "height": null,
            "justify_content": null,
            "justify_items": null,
            "left": null,
            "margin": null,
            "max_height": null,
            "max_width": null,
            "min_height": null,
            "min_width": null,
            "object_fit": null,
            "object_position": null,
            "order": null,
            "overflow": null,
            "padding": null,
            "right": null,
            "top": null,
            "visibility": null,
            "width": null
          }
        },
        "d861f739f7a245d6807ef02552777417": {
          "model_module": "@jupyter-widgets/base",
          "model_name": "LayoutModel",
          "model_module_version": "2.0.0",
          "state": {
            "_model_module": "@jupyter-widgets/base",
            "_model_module_version": "2.0.0",
            "_model_name": "LayoutModel",
            "_view_count": null,
            "_view_module": "@jupyter-widgets/base",
            "_view_module_version": "2.0.0",
            "_view_name": "LayoutView",
            "align_content": null,
            "align_items": null,
            "align_self": null,
            "border_bottom": null,
            "border_left": null,
            "border_right": null,
            "border_top": null,
            "bottom": null,
            "display": null,
            "flex": null,
            "flex_flow": null,
            "grid_area": null,
            "grid_auto_columns": null,
            "grid_auto_flow": null,
            "grid_auto_rows": null,
            "grid_column": null,
            "grid_gap": null,
            "grid_row": null,
            "grid_template_areas": null,
            "grid_template_columns": null,
            "grid_template_rows": null,
            "height": null,
            "justify_content": null,
            "justify_items": null,
            "left": null,
            "margin": null,
            "max_height": null,
            "max_width": null,
            "min_height": null,
            "min_width": null,
            "object_fit": null,
            "object_position": null,
            "order": null,
            "overflow": null,
            "padding": null,
            "right": null,
            "top": null,
            "visibility": null,
            "width": null
          }
        },
        "004d8acbe9ec41eca5e9a179bb8a89f2": {
          "model_module": "@jupyter-widgets/controls",
          "model_name": "HTMLStyleModel",
          "model_module_version": "2.0.0",
          "state": {
            "_model_module": "@jupyter-widgets/controls",
            "_model_module_version": "2.0.0",
            "_model_name": "HTMLStyleModel",
            "_view_count": null,
            "_view_module": "@jupyter-widgets/base",
            "_view_module_version": "2.0.0",
            "_view_name": "StyleView",
            "background": null,
            "description_width": "",
            "font_size": null,
            "text_color": null
          }
        },
        "384c8a42a124416d918c0888d527ea55": {
          "model_module": "@jupyter-widgets/base",
          "model_name": "LayoutModel",
          "model_module_version": "2.0.0",
          "state": {
            "_model_module": "@jupyter-widgets/base",
            "_model_module_version": "2.0.0",
            "_model_name": "LayoutModel",
            "_view_count": null,
            "_view_module": "@jupyter-widgets/base",
            "_view_module_version": "2.0.0",
            "_view_name": "LayoutView",
            "align_content": null,
            "align_items": null,
            "align_self": null,
            "border_bottom": null,
            "border_left": null,
            "border_right": null,
            "border_top": null,
            "bottom": null,
            "display": null,
            "flex": null,
            "flex_flow": null,
            "grid_area": null,
            "grid_auto_columns": null,
            "grid_auto_flow": null,
            "grid_auto_rows": null,
            "grid_column": null,
            "grid_gap": null,
            "grid_row": null,
            "grid_template_areas": null,
            "grid_template_columns": null,
            "grid_template_rows": null,
            "height": null,
            "justify_content": null,
            "justify_items": null,
            "left": null,
            "margin": null,
            "max_height": null,
            "max_width": null,
            "min_height": null,
            "min_width": null,
            "object_fit": null,
            "object_position": null,
            "order": null,
            "overflow": null,
            "padding": null,
            "right": null,
            "top": null,
            "visibility": null,
            "width": null
          }
        },
        "c591066dc3fc427b9295b530d85ed2ec": {
          "model_module": "@jupyter-widgets/controls",
          "model_name": "ProgressStyleModel",
          "model_module_version": "2.0.0",
          "state": {
            "_model_module": "@jupyter-widgets/controls",
            "_model_module_version": "2.0.0",
            "_model_name": "ProgressStyleModel",
            "_view_count": null,
            "_view_module": "@jupyter-widgets/base",
            "_view_module_version": "2.0.0",
            "_view_name": "StyleView",
            "bar_color": null,
            "description_width": ""
          }
        },
        "3be223afd3e345419011bfe111f1259d": {
          "model_module": "@jupyter-widgets/base",
          "model_name": "LayoutModel",
          "model_module_version": "2.0.0",
          "state": {
            "_model_module": "@jupyter-widgets/base",
            "_model_module_version": "2.0.0",
            "_model_name": "LayoutModel",
            "_view_count": null,
            "_view_module": "@jupyter-widgets/base",
            "_view_module_version": "2.0.0",
            "_view_name": "LayoutView",
            "align_content": null,
            "align_items": null,
            "align_self": null,
            "border_bottom": null,
            "border_left": null,
            "border_right": null,
            "border_top": null,
            "bottom": null,
            "display": null,
            "flex": null,
            "flex_flow": null,
            "grid_area": null,
            "grid_auto_columns": null,
            "grid_auto_flow": null,
            "grid_auto_rows": null,
            "grid_column": null,
            "grid_gap": null,
            "grid_row": null,
            "grid_template_areas": null,
            "grid_template_columns": null,
            "grid_template_rows": null,
            "height": null,
            "justify_content": null,
            "justify_items": null,
            "left": null,
            "margin": null,
            "max_height": null,
            "max_width": null,
            "min_height": null,
            "min_width": null,
            "object_fit": null,
            "object_position": null,
            "order": null,
            "overflow": null,
            "padding": null,
            "right": null,
            "top": null,
            "visibility": null,
            "width": null
          }
        },
        "e13a8f211d494f0e88ae3858ec366ea9": {
          "model_module": "@jupyter-widgets/controls",
          "model_name": "HTMLStyleModel",
          "model_module_version": "2.0.0",
          "state": {
            "_model_module": "@jupyter-widgets/controls",
            "_model_module_version": "2.0.0",
            "_model_name": "HTMLStyleModel",
            "_view_count": null,
            "_view_module": "@jupyter-widgets/base",
            "_view_module_version": "2.0.0",
            "_view_name": "StyleView",
            "background": null,
            "description_width": "",
            "font_size": null,
            "text_color": null
          }
        },
        "835dabd5f0fd47e388587ba86ee7e0f7": {
          "model_module": "@jupyter-widgets/controls",
          "model_name": "HBoxModel",
          "model_module_version": "2.0.0",
          "state": {
            "_dom_classes": [],
            "_model_module": "@jupyter-widgets/controls",
            "_model_module_version": "2.0.0",
            "_model_name": "HBoxModel",
            "_view_count": null,
            "_view_module": "@jupyter-widgets/controls",
            "_view_module_version": "2.0.0",
            "_view_name": "HBoxView",
            "box_style": "",
            "children": [
              "IPY_MODEL_bc8c2debd9a3408398e8f0020ab0e1c5",
              "IPY_MODEL_8ae2971b40ed48e3a772595d07842b91",
              "IPY_MODEL_030ed643d9144ec09a6a9ad3fbdcb45e"
            ],
            "layout": "IPY_MODEL_d359d8b9b13948a3a463e5603cfb1e89",
            "tabbable": null,
            "tooltip": null
          }
        },
        "bc8c2debd9a3408398e8f0020ab0e1c5": {
          "model_module": "@jupyter-widgets/controls",
          "model_name": "HTMLModel",
          "model_module_version": "2.0.0",
          "state": {
            "_dom_classes": [],
            "_model_module": "@jupyter-widgets/controls",
            "_model_module_version": "2.0.0",
            "_model_name": "HTMLModel",
            "_view_count": null,
            "_view_module": "@jupyter-widgets/controls",
            "_view_module_version": "2.0.0",
            "_view_name": "HTMLView",
            "description": "",
            "description_allow_html": false,
            "layout": "IPY_MODEL_7b6f06349df243bbba296db7afe46dd4",
            "placeholder": "​",
            "style": "IPY_MODEL_eb59c57667a64918a4501f0d84528bdf",
            "tabbable": null,
            "tooltip": null,
            "value": "Loading checkpoint shards: 100%"
          }
        },
        "8ae2971b40ed48e3a772595d07842b91": {
          "model_module": "@jupyter-widgets/controls",
          "model_name": "FloatProgressModel",
          "model_module_version": "2.0.0",
          "state": {
            "_dom_classes": [],
            "_model_module": "@jupyter-widgets/controls",
            "_model_module_version": "2.0.0",
            "_model_name": "FloatProgressModel",
            "_view_count": null,
            "_view_module": "@jupyter-widgets/controls",
            "_view_module_version": "2.0.0",
            "_view_name": "ProgressView",
            "bar_style": "success",
            "description": "",
            "description_allow_html": false,
            "layout": "IPY_MODEL_d1ffccf61db740aeab9b3a1829d50d52",
            "max": 2,
            "min": 0,
            "orientation": "horizontal",
            "style": "IPY_MODEL_79bb56a3727c444ca14964f738876a42",
            "tabbable": null,
            "tooltip": null,
            "value": 2
          }
        },
        "030ed643d9144ec09a6a9ad3fbdcb45e": {
          "model_module": "@jupyter-widgets/controls",
          "model_name": "HTMLModel",
          "model_module_version": "2.0.0",
          "state": {
            "_dom_classes": [],
            "_model_module": "@jupyter-widgets/controls",
            "_model_module_version": "2.0.0",
            "_model_name": "HTMLModel",
            "_view_count": null,
            "_view_module": "@jupyter-widgets/controls",
            "_view_module_version": "2.0.0",
            "_view_name": "HTMLView",
            "description": "",
            "description_allow_html": false,
            "layout": "IPY_MODEL_a2a91972464445caaff2456cff32f687",
            "placeholder": "​",
            "style": "IPY_MODEL_bbd4551239b5441c9dd6747895de95d1",
            "tabbable": null,
            "tooltip": null,
            "value": " 2/2 [00:07&lt;00:00,  3.45s/it]"
          }
        },
        "d359d8b9b13948a3a463e5603cfb1e89": {
          "model_module": "@jupyter-widgets/base",
          "model_name": "LayoutModel",
          "model_module_version": "2.0.0",
          "state": {
            "_model_module": "@jupyter-widgets/base",
            "_model_module_version": "2.0.0",
            "_model_name": "LayoutModel",
            "_view_count": null,
            "_view_module": "@jupyter-widgets/base",
            "_view_module_version": "2.0.0",
            "_view_name": "LayoutView",
            "align_content": null,
            "align_items": null,
            "align_self": null,
            "border_bottom": null,
            "border_left": null,
            "border_right": null,
            "border_top": null,
            "bottom": null,
            "display": null,
            "flex": null,
            "flex_flow": null,
            "grid_area": null,
            "grid_auto_columns": null,
            "grid_auto_flow": null,
            "grid_auto_rows": null,
            "grid_column": null,
            "grid_gap": null,
            "grid_row": null,
            "grid_template_areas": null,
            "grid_template_columns": null,
            "grid_template_rows": null,
            "height": null,
            "justify_content": null,
            "justify_items": null,
            "left": null,
            "margin": null,
            "max_height": null,
            "max_width": null,
            "min_height": null,
            "min_width": null,
            "object_fit": null,
            "object_position": null,
            "order": null,
            "overflow": null,
            "padding": null,
            "right": null,
            "top": null,
            "visibility": null,
            "width": null
          }
        },
        "7b6f06349df243bbba296db7afe46dd4": {
          "model_module": "@jupyter-widgets/base",
          "model_name": "LayoutModel",
          "model_module_version": "2.0.0",
          "state": {
            "_model_module": "@jupyter-widgets/base",
            "_model_module_version": "2.0.0",
            "_model_name": "LayoutModel",
            "_view_count": null,
            "_view_module": "@jupyter-widgets/base",
            "_view_module_version": "2.0.0",
            "_view_name": "LayoutView",
            "align_content": null,
            "align_items": null,
            "align_self": null,
            "border_bottom": null,
            "border_left": null,
            "border_right": null,
            "border_top": null,
            "bottom": null,
            "display": null,
            "flex": null,
            "flex_flow": null,
            "grid_area": null,
            "grid_auto_columns": null,
            "grid_auto_flow": null,
            "grid_auto_rows": null,
            "grid_column": null,
            "grid_gap": null,
            "grid_row": null,
            "grid_template_areas": null,
            "grid_template_columns": null,
            "grid_template_rows": null,
            "height": null,
            "justify_content": null,
            "justify_items": null,
            "left": null,
            "margin": null,
            "max_height": null,
            "max_width": null,
            "min_height": null,
            "min_width": null,
            "object_fit": null,
            "object_position": null,
            "order": null,
            "overflow": null,
            "padding": null,
            "right": null,
            "top": null,
            "visibility": null,
            "width": null
          }
        },
        "eb59c57667a64918a4501f0d84528bdf": {
          "model_module": "@jupyter-widgets/controls",
          "model_name": "HTMLStyleModel",
          "model_module_version": "2.0.0",
          "state": {
            "_model_module": "@jupyter-widgets/controls",
            "_model_module_version": "2.0.0",
            "_model_name": "HTMLStyleModel",
            "_view_count": null,
            "_view_module": "@jupyter-widgets/base",
            "_view_module_version": "2.0.0",
            "_view_name": "StyleView",
            "background": null,
            "description_width": "",
            "font_size": null,
            "text_color": null
          }
        },
        "d1ffccf61db740aeab9b3a1829d50d52": {
          "model_module": "@jupyter-widgets/base",
          "model_name": "LayoutModel",
          "model_module_version": "2.0.0",
          "state": {
            "_model_module": "@jupyter-widgets/base",
            "_model_module_version": "2.0.0",
            "_model_name": "LayoutModel",
            "_view_count": null,
            "_view_module": "@jupyter-widgets/base",
            "_view_module_version": "2.0.0",
            "_view_name": "LayoutView",
            "align_content": null,
            "align_items": null,
            "align_self": null,
            "border_bottom": null,
            "border_left": null,
            "border_right": null,
            "border_top": null,
            "bottom": null,
            "display": null,
            "flex": null,
            "flex_flow": null,
            "grid_area": null,
            "grid_auto_columns": null,
            "grid_auto_flow": null,
            "grid_auto_rows": null,
            "grid_column": null,
            "grid_gap": null,
            "grid_row": null,
            "grid_template_areas": null,
            "grid_template_columns": null,
            "grid_template_rows": null,
            "height": null,
            "justify_content": null,
            "justify_items": null,
            "left": null,
            "margin": null,
            "max_height": null,
            "max_width": null,
            "min_height": null,
            "min_width": null,
            "object_fit": null,
            "object_position": null,
            "order": null,
            "overflow": null,
            "padding": null,
            "right": null,
            "top": null,
            "visibility": null,
            "width": null
          }
        },
        "79bb56a3727c444ca14964f738876a42": {
          "model_module": "@jupyter-widgets/controls",
          "model_name": "ProgressStyleModel",
          "model_module_version": "2.0.0",
          "state": {
            "_model_module": "@jupyter-widgets/controls",
            "_model_module_version": "2.0.0",
            "_model_name": "ProgressStyleModel",
            "_view_count": null,
            "_view_module": "@jupyter-widgets/base",
            "_view_module_version": "2.0.0",
            "_view_name": "StyleView",
            "bar_color": null,
            "description_width": ""
          }
        },
        "a2a91972464445caaff2456cff32f687": {
          "model_module": "@jupyter-widgets/base",
          "model_name": "LayoutModel",
          "model_module_version": "2.0.0",
          "state": {
            "_model_module": "@jupyter-widgets/base",
            "_model_module_version": "2.0.0",
            "_model_name": "LayoutModel",
            "_view_count": null,
            "_view_module": "@jupyter-widgets/base",
            "_view_module_version": "2.0.0",
            "_view_name": "LayoutView",
            "align_content": null,
            "align_items": null,
            "align_self": null,
            "border_bottom": null,
            "border_left": null,
            "border_right": null,
            "border_top": null,
            "bottom": null,
            "display": null,
            "flex": null,
            "flex_flow": null,
            "grid_area": null,
            "grid_auto_columns": null,
            "grid_auto_flow": null,
            "grid_auto_rows": null,
            "grid_column": null,
            "grid_gap": null,
            "grid_row": null,
            "grid_template_areas": null,
            "grid_template_columns": null,
            "grid_template_rows": null,
            "height": null,
            "justify_content": null,
            "justify_items": null,
            "left": null,
            "margin": null,
            "max_height": null,
            "max_width": null,
            "min_height": null,
            "min_width": null,
            "object_fit": null,
            "object_position": null,
            "order": null,
            "overflow": null,
            "padding": null,
            "right": null,
            "top": null,
            "visibility": null,
            "width": null
          }
        },
        "bbd4551239b5441c9dd6747895de95d1": {
          "model_module": "@jupyter-widgets/controls",
          "model_name": "HTMLStyleModel",
          "model_module_version": "2.0.0",
          "state": {
            "_model_module": "@jupyter-widgets/controls",
            "_model_module_version": "2.0.0",
            "_model_name": "HTMLStyleModel",
            "_view_count": null,
            "_view_module": "@jupyter-widgets/base",
            "_view_module_version": "2.0.0",
            "_view_name": "StyleView",
            "background": null,
            "description_width": "",
            "font_size": null,
            "text_color": null
          }
        },
        "6d8ee2694be94b6380fd68fdc3a058b1": {
          "model_module": "@jupyter-widgets/controls",
          "model_name": "HBoxModel",
          "model_module_version": "2.0.0",
          "state": {
            "_dom_classes": [],
            "_model_module": "@jupyter-widgets/controls",
            "_model_module_version": "2.0.0",
            "_model_name": "HBoxModel",
            "_view_count": null,
            "_view_module": "@jupyter-widgets/controls",
            "_view_module_version": "2.0.0",
            "_view_name": "HBoxView",
            "box_style": "",
            "children": [
              "IPY_MODEL_e6e8d725f9dd4b48b324c660f98664ff",
              "IPY_MODEL_be3fe6d98c874c8c813b833649f08077",
              "IPY_MODEL_22d360263f05478d88218a7d8fd7b880"
            ],
            "layout": "IPY_MODEL_51637df1072d4cd3992b83b174ee5e7a",
            "tabbable": null,
            "tooltip": null
          }
        },
        "e6e8d725f9dd4b48b324c660f98664ff": {
          "model_module": "@jupyter-widgets/controls",
          "model_name": "HTMLModel",
          "model_module_version": "2.0.0",
          "state": {
            "_dom_classes": [],
            "_model_module": "@jupyter-widgets/controls",
            "_model_module_version": "2.0.0",
            "_model_name": "HTMLModel",
            "_view_count": null,
            "_view_module": "@jupyter-widgets/controls",
            "_view_module_version": "2.0.0",
            "_view_name": "HTMLView",
            "description": "",
            "description_allow_html": false,
            "layout": "IPY_MODEL_6ce72c8390e94e359557be233bd014b7",
            "placeholder": "​",
            "style": "IPY_MODEL_70862009000a4d119a887d29ee2bad2e",
            "tabbable": null,
            "tooltip": null,
            "value": "100%"
          }
        },
        "be3fe6d98c874c8c813b833649f08077": {
          "model_module": "@jupyter-widgets/controls",
          "model_name": "FloatProgressModel",
          "model_module_version": "2.0.0",
          "state": {
            "_dom_classes": [],
            "_model_module": "@jupyter-widgets/controls",
            "_model_module_version": "2.0.0",
            "_model_name": "FloatProgressModel",
            "_view_count": null,
            "_view_module": "@jupyter-widgets/controls",
            "_view_module_version": "2.0.0",
            "_view_name": "ProgressView",
            "bar_style": "success",
            "description": "",
            "description_allow_html": false,
            "layout": "IPY_MODEL_e0cc7946f6ca48848e24c307956a3772",
            "max": 24,
            "min": 0,
            "orientation": "horizontal",
            "style": "IPY_MODEL_a51cfb72bdb245fe86c06035f72ca505",
            "tabbable": null,
            "tooltip": null,
            "value": 24
          }
        },
        "22d360263f05478d88218a7d8fd7b880": {
          "model_module": "@jupyter-widgets/controls",
          "model_name": "HTMLModel",
          "model_module_version": "2.0.0",
          "state": {
            "_dom_classes": [],
            "_model_module": "@jupyter-widgets/controls",
            "_model_module_version": "2.0.0",
            "_model_name": "HTMLModel",
            "_view_count": null,
            "_view_module": "@jupyter-widgets/controls",
            "_view_module_version": "2.0.0",
            "_view_name": "HTMLView",
            "description": "",
            "description_allow_html": false,
            "layout": "IPY_MODEL_01b946457a464984afb0409550d06940",
            "placeholder": "​",
            "style": "IPY_MODEL_ffaa7a55ae2e49edbebb07abc651ed55",
            "tabbable": null,
            "tooltip": null,
            "value": " 24/24 [00:09&lt;00:00,  2.65it/s]"
          }
        },
        "51637df1072d4cd3992b83b174ee5e7a": {
          "model_module": "@jupyter-widgets/base",
          "model_name": "LayoutModel",
          "model_module_version": "2.0.0",
          "state": {
            "_model_module": "@jupyter-widgets/base",
            "_model_module_version": "2.0.0",
            "_model_name": "LayoutModel",
            "_view_count": null,
            "_view_module": "@jupyter-widgets/base",
            "_view_module_version": "2.0.0",
            "_view_name": "LayoutView",
            "align_content": null,
            "align_items": null,
            "align_self": null,
            "border_bottom": null,
            "border_left": null,
            "border_right": null,
            "border_top": null,
            "bottom": null,
            "display": null,
            "flex": null,
            "flex_flow": null,
            "grid_area": null,
            "grid_auto_columns": null,
            "grid_auto_flow": null,
            "grid_auto_rows": null,
            "grid_column": null,
            "grid_gap": null,
            "grid_row": null,
            "grid_template_areas": null,
            "grid_template_columns": null,
            "grid_template_rows": null,
            "height": null,
            "justify_content": null,
            "justify_items": null,
            "left": null,
            "margin": null,
            "max_height": null,
            "max_width": null,
            "min_height": null,
            "min_width": null,
            "object_fit": null,
            "object_position": null,
            "order": null,
            "overflow": null,
            "padding": null,
            "right": null,
            "top": null,
            "visibility": null,
            "width": null
          }
        },
        "6ce72c8390e94e359557be233bd014b7": {
          "model_module": "@jupyter-widgets/base",
          "model_name": "LayoutModel",
          "model_module_version": "2.0.0",
          "state": {
            "_model_module": "@jupyter-widgets/base",
            "_model_module_version": "2.0.0",
            "_model_name": "LayoutModel",
            "_view_count": null,
            "_view_module": "@jupyter-widgets/base",
            "_view_module_version": "2.0.0",
            "_view_name": "LayoutView",
            "align_content": null,
            "align_items": null,
            "align_self": null,
            "border_bottom": null,
            "border_left": null,
            "border_right": null,
            "border_top": null,
            "bottom": null,
            "display": null,
            "flex": null,
            "flex_flow": null,
            "grid_area": null,
            "grid_auto_columns": null,
            "grid_auto_flow": null,
            "grid_auto_rows": null,
            "grid_column": null,
            "grid_gap": null,
            "grid_row": null,
            "grid_template_areas": null,
            "grid_template_columns": null,
            "grid_template_rows": null,
            "height": null,
            "justify_content": null,
            "justify_items": null,
            "left": null,
            "margin": null,
            "max_height": null,
            "max_width": null,
            "min_height": null,
            "min_width": null,
            "object_fit": null,
            "object_position": null,
            "order": null,
            "overflow": null,
            "padding": null,
            "right": null,
            "top": null,
            "visibility": null,
            "width": null
          }
        },
        "70862009000a4d119a887d29ee2bad2e": {
          "model_module": "@jupyter-widgets/controls",
          "model_name": "HTMLStyleModel",
          "model_module_version": "2.0.0",
          "state": {
            "_model_module": "@jupyter-widgets/controls",
            "_model_module_version": "2.0.0",
            "_model_name": "HTMLStyleModel",
            "_view_count": null,
            "_view_module": "@jupyter-widgets/base",
            "_view_module_version": "2.0.0",
            "_view_name": "StyleView",
            "background": null,
            "description_width": "",
            "font_size": null,
            "text_color": null
          }
        },
        "e0cc7946f6ca48848e24c307956a3772": {
          "model_module": "@jupyter-widgets/base",
          "model_name": "LayoutModel",
          "model_module_version": "2.0.0",
          "state": {
            "_model_module": "@jupyter-widgets/base",
            "_model_module_version": "2.0.0",
            "_model_name": "LayoutModel",
            "_view_count": null,
            "_view_module": "@jupyter-widgets/base",
            "_view_module_version": "2.0.0",
            "_view_name": "LayoutView",
            "align_content": null,
            "align_items": null,
            "align_self": null,
            "border_bottom": null,
            "border_left": null,
            "border_right": null,
            "border_top": null,
            "bottom": null,
            "display": null,
            "flex": null,
            "flex_flow": null,
            "grid_area": null,
            "grid_auto_columns": null,
            "grid_auto_flow": null,
            "grid_auto_rows": null,
            "grid_column": null,
            "grid_gap": null,
            "grid_row": null,
            "grid_template_areas": null,
            "grid_template_columns": null,
            "grid_template_rows": null,
            "height": null,
            "justify_content": null,
            "justify_items": null,
            "left": null,
            "margin": null,
            "max_height": null,
            "max_width": null,
            "min_height": null,
            "min_width": null,
            "object_fit": null,
            "object_position": null,
            "order": null,
            "overflow": null,
            "padding": null,
            "right": null,
            "top": null,
            "visibility": null,
            "width": null
          }
        },
        "a51cfb72bdb245fe86c06035f72ca505": {
          "model_module": "@jupyter-widgets/controls",
          "model_name": "ProgressStyleModel",
          "model_module_version": "2.0.0",
          "state": {
            "_model_module": "@jupyter-widgets/controls",
            "_model_module_version": "2.0.0",
            "_model_name": "ProgressStyleModel",
            "_view_count": null,
            "_view_module": "@jupyter-widgets/base",
            "_view_module_version": "2.0.0",
            "_view_name": "StyleView",
            "bar_color": null,
            "description_width": ""
          }
        },
        "01b946457a464984afb0409550d06940": {
          "model_module": "@jupyter-widgets/base",
          "model_name": "LayoutModel",
          "model_module_version": "2.0.0",
          "state": {
            "_model_module": "@jupyter-widgets/base",
            "_model_module_version": "2.0.0",
            "_model_name": "LayoutModel",
            "_view_count": null,
            "_view_module": "@jupyter-widgets/base",
            "_view_module_version": "2.0.0",
            "_view_name": "LayoutView",
            "align_content": null,
            "align_items": null,
            "align_self": null,
            "border_bottom": null,
            "border_left": null,
            "border_right": null,
            "border_top": null,
            "bottom": null,
            "display": null,
            "flex": null,
            "flex_flow": null,
            "grid_area": null,
            "grid_auto_columns": null,
            "grid_auto_flow": null,
            "grid_auto_rows": null,
            "grid_column": null,
            "grid_gap": null,
            "grid_row": null,
            "grid_template_areas": null,
            "grid_template_columns": null,
            "grid_template_rows": null,
            "height": null,
            "justify_content": null,
            "justify_items": null,
            "left": null,
            "margin": null,
            "max_height": null,
            "max_width": null,
            "min_height": null,
            "min_width": null,
            "object_fit": null,
            "object_position": null,
            "order": null,
            "overflow": null,
            "padding": null,
            "right": null,
            "top": null,
            "visibility": null,
            "width": null
          }
        },
        "ffaa7a55ae2e49edbebb07abc651ed55": {
          "model_module": "@jupyter-widgets/controls",
          "model_name": "HTMLStyleModel",
          "model_module_version": "2.0.0",
          "state": {
            "_model_module": "@jupyter-widgets/controls",
            "_model_module_version": "2.0.0",
            "_model_name": "HTMLStyleModel",
            "_view_count": null,
            "_view_module": "@jupyter-widgets/base",
            "_view_module_version": "2.0.0",
            "_view_name": "StyleView",
            "background": null,
            "description_width": "",
            "font_size": null,
            "text_color": null
          }
        }
      }
    }
  },
  "nbformat": 4,
  "nbformat_minor": 5
}