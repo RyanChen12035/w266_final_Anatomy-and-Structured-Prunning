{
  "cells": [
    {
      "cell_type": "markdown",
      "metadata": {
        "id": "view-in-github",
        "colab_type": "text"
      },
      "source": [
        "<a href=\"https://colab.research.google.com/github/RyanChen12035/w266_final_Anatomy-and-Structured-Prunning/blob/main/llama2_ft_reft_boolq.ipynb\" target=\"_parent\"><img src=\"https://colab.research.google.com/assets/colab-badge.svg\" alt=\"Open In Colab\"/></a>"
      ]
    },
    {
      "cell_type": "code",
      "execution_count": 1,
      "id": "5664054e-874d-48b8-8a58-b267f0c5c31a",
      "metadata": {
        "id": "5664054e-874d-48b8-8a58-b267f0c5c31a"
      },
      "outputs": [],
      "source": [
        "try:\n",
        "    # This library is our indicator that the required installs\n",
        "    # need to be done.\n",
        "    import pyreft\n",
        "\n",
        "except ModuleNotFoundError:\n",
        "    !pip install git+https://github.com/stanfordnlp/pyreft.git"
      ]
    },
    {
      "cell_type": "code",
      "execution_count": 1,
      "id": "5feff457-fd71-4f64-97eb-c045cbbec4a8",
      "metadata": {
        "id": "5feff457-fd71-4f64-97eb-c045cbbec4a8",
        "outputId": "5b59245b-d5a1-4e23-bc9c-de4ea8356db3",
        "colab": {
          "base_uri": "https://localhost:8080/",
          "height": 280,
          "referenced_widgets": [
            "09f0c40c69314c748d1fa149efb6c59f",
            "1b5f7d28864240d490f07908e2354e4a",
            "b1389467962f44d9b5a4648caf7c5042",
            "eead6d293fcd4d148cb9d14d5b912afa",
            "e9ad17b67aef4666b048a0959d97a6d9",
            "00972b6e387449a0867fb4350f62a80d",
            "448d52a577564ee79943e26cb6190e4d",
            "ba0020d90de6411496a2f7cbf7a5e0b9",
            "a27a2aae635f43268339c0b7fd890595",
            "f037d2e347df4850a6482d5e63a4f2be",
            "058db59a154e4f89a1b663e8ed8fb0a5"
          ]
        }
      },
      "outputs": [
        {
          "output_type": "stream",
          "name": "stderr",
          "text": [
            "/usr/local/lib/python3.10/dist-packages/huggingface_hub/utils/_token.py:88: UserWarning: \n",
            "The secret `HF_TOKEN` does not exist in your Colab secrets.\n",
            "To authenticate with the Hugging Face Hub, create a token in your settings tab (https://huggingface.co/settings/tokens), set it as secret in your Google Colab and restart your session.\n",
            "You will be able to reuse this secret in all of your notebooks.\n",
            "Please note that authentication is recommended but still optional to access public models or datasets.\n",
            "  warnings.warn(\n"
          ]
        },
        {
          "output_type": "display_data",
          "data": {
            "text/plain": [
              "Loading checkpoint shards:   0%|          | 0/2 [00:00<?, ?it/s]"
            ],
            "application/vnd.jupyter.widget-view+json": {
              "version_major": 2,
              "version_minor": 0,
              "model_id": "09f0c40c69314c748d1fa149efb6c59f"
            }
          },
          "metadata": {}
        },
        {
          "output_type": "stream",
          "name": "stderr",
          "text": [
            "/usr/local/lib/python3.10/dist-packages/transformers/generation/configuration_utils.py:492: UserWarning: `do_sample` is set to `False`. However, `temperature` is set to `0.9` -- this flag is only used in sample-based generation modes. You should set `do_sample=True` or unset `temperature`. This was detected when initializing the generation config instance, which means the corresponding file may hold incorrect parameterization and should be fixed.\n",
            "  warnings.warn(\n",
            "/usr/local/lib/python3.10/dist-packages/transformers/generation/configuration_utils.py:497: UserWarning: `do_sample` is set to `False`. However, `top_p` is set to `0.6` -- this flag is only used in sample-based generation modes. You should set `do_sample=True` or unset `top_p`. This was detected when initializing the generation config instance, which means the corresponding file may hold incorrect parameterization and should be fixed.\n",
            "  warnings.warn(\n",
            "/usr/local/lib/python3.10/dist-packages/transformers/generation/configuration_utils.py:492: UserWarning: `do_sample` is set to `False`. However, `temperature` is set to `0.9` -- this flag is only used in sample-based generation modes. You should set `do_sample=True` or unset `temperature`.\n",
            "  warnings.warn(\n",
            "/usr/local/lib/python3.10/dist-packages/transformers/generation/configuration_utils.py:497: UserWarning: `do_sample` is set to `False`. However, `top_p` is set to `0.6` -- this flag is only used in sample-based generation modes. You should set `do_sample=True` or unset `top_p`.\n",
            "  warnings.warn(\n"
          ]
        }
      ],
      "source": [
        "import torch, transformers, pyreft\n",
        "device = \"cuda\"\n",
        "\n",
        "\n",
        "model_name_or_path = \"NousResearch/Llama-2-7b-hf\"\n",
        "model = transformers.AutoModelForCausalLM.from_pretrained(\n",
        "    model_name_or_path, torch_dtype=torch.bfloat16, device_map=device)\n",
        "\n",
        "# get tokenizer\n",
        "tokenizer = transformers.AutoTokenizer.from_pretrained(\n",
        "    model_name_or_path, model_max_length=2048,\n",
        "    padding_side=\"right\", use_fast=False)\n",
        "tokenizer.pad_token = tokenizer.unk_token"
      ]
    },
    {
      "cell_type": "code",
      "execution_count": 2,
      "id": "09db87aa-b589-4af2-a430-bf39f7f4f797",
      "metadata": {
        "id": "09db87aa-b589-4af2-a430-bf39f7f4f797",
        "outputId": "a3303032-e153-4d79-aa18-fbb3d0819e21",
        "colab": {
          "base_uri": "https://localhost:8080/"
        }
      },
      "outputs": [
        {
          "output_type": "stream",
          "name": "stdout",
          "text": [
            "trainable intervention params: 131,088 || trainable model params: 0\n",
            "model params: 6,738,415,616 || trainable%: 0.0019453831207552515\n"
          ]
        }
      ],
      "source": [
        "# get reft model\n",
        "reft_config = pyreft.ReftConfig(representations={\n",
        "    \"layer\": 2, \"component\": \"block_output\",\n",
        "    \"low_rank_dimension\": 16,\n",
        "    \"intervention\": pyreft.LoreftIntervention(embed_dim=model.config.hidden_size,\n",
        "    low_rank_dimension=16)})\n",
        "reft_model = pyreft.get_reft_model(model, reft_config)\n",
        "reft_model.set_device(\"cuda\")\n",
        "reft_model.print_trainable_parameters()\n",
        "\n",
        "# r = 16, layer = 21, trainable intervention params: 131,088 || trainable model params: 0 || model params: 6,738,415,616 || trainable%: 0.0019453831207552515\n",
        "#  r = 16, layer = 2, trainable intervention params: 131,088 || trainable model params: 0 || model params: 6,738,415,616 || trainable%: 0.0019453831207552515\n",
        "#  r = 16, layer = 15, trainable intervention params: 131,088 || trainable model params: 0 || model params: 6,738,415,616 || trainable%: 0.0019453831207552515"
      ]
    },
    {
      "cell_type": "code",
      "source": [
        "from google.colab import drive\n",
        "drive.mount('/content/drive')"
      ],
      "metadata": {
        "id": "y42D9pjTHwPT",
        "outputId": "4174cb19-d556-4710-d294-9c01ba94f3c0",
        "colab": {
          "base_uri": "https://localhost:8080/"
        }
      },
      "id": "y42D9pjTHwPT",
      "execution_count": 3,
      "outputs": [
        {
          "output_type": "stream",
          "name": "stdout",
          "text": [
            "Drive already mounted at /content/drive; to attempt to forcibly remount, call drive.mount(\"/content/drive\", force_remount=True).\n"
          ]
        }
      ]
    },
    {
      "cell_type": "code",
      "source": [
        "import pandas as pd\n",
        "# train subset\n",
        "df = pd.read_csv('/content/drive/MyDrive/boolq_500.csv')\n",
        "X = df['question'].iloc[:24].values\n",
        "y = df['label_y'].iloc[:24].values"
      ],
      "metadata": {
        "id": "43DA85nDHwRO"
      },
      "id": "43DA85nDHwRO",
      "execution_count": 4,
      "outputs": []
    },
    {
      "cell_type": "code",
      "source": [
        "def template_prompt_engineering(example):\n",
        "  # add system template of Llama2 and prompt engineering for the boolq task\n",
        "  example = f\"\"\"Please answer the following queation with true or false, question: {example}?\\n\\nAnswer format: true/false\"\"\"\n",
        "  example = f\"\"\"<s>[INST]<<sys>>Below is an instruction that describes a task. Write a response that appropriately completes the request<</sys>>\n",
        "        ### Instruction:\n",
        "        {example}[/INST]\n",
        "\n",
        "        ### Response:\n",
        "        \"\"\"\n",
        "  return example"
      ],
      "metadata": {
        "id": "HQ0_L-RoHwUC"
      },
      "id": "HQ0_L-RoHwUC",
      "execution_count": 5,
      "outputs": []
    },
    {
      "cell_type": "code",
      "source": [
        "data_module = pyreft.make_last_position_supervised_data_module(\n",
        "    tokenizer,\n",
        "    model,\n",
        "    [template_prompt_engineering(x) for x in X],\n",
        "    y\n",
        ")"
      ],
      "metadata": {
        "id": "quXZq75zHwXB"
      },
      "id": "quXZq75zHwXB",
      "execution_count": 6,
      "outputs": []
    },
    {
      "cell_type": "code",
      "execution_count": 7,
      "id": "06190132-acab-41e3-a659-c85286d1496b",
      "metadata": {
        "id": "06190132-acab-41e3-a659-c85286d1496b",
        "outputId": "63bfb986-1bf4-49a5-f761-317a305d78e1",
        "colab": {
          "base_uri": "https://localhost:8080/",
          "height": 169
        }
      },
      "outputs": [
        {
          "output_type": "display_data",
          "data": {
            "text/plain": [
              "<IPython.core.display.HTML object>"
            ],
            "text/html": [
              "\n",
              "    <div>\n",
              "      \n",
              "      <progress value='150' max='150' style='width:300px; height:20px; vertical-align: middle;'></progress>\n",
              "      [150/150 01:39, Epoch 50/50]\n",
              "    </div>\n",
              "    <table border=\"1\" class=\"dataframe\">\n",
              "  <thead>\n",
              " <tr style=\"text-align: left;\">\n",
              "      <th>Step</th>\n",
              "      <th>Training Loss</th>\n",
              "    </tr>\n",
              "  </thead>\n",
              "  <tbody>\n",
              "    <tr>\n",
              "      <td>40</td>\n",
              "      <td>0.516800</td>\n",
              "    </tr>\n",
              "    <tr>\n",
              "      <td>80</td>\n",
              "      <td>0.028200</td>\n",
              "    </tr>\n",
              "    <tr>\n",
              "      <td>120</td>\n",
              "      <td>0.000400</td>\n",
              "    </tr>\n",
              "  </tbody>\n",
              "</table><p>"
            ]
          },
          "metadata": {}
        }
      ],
      "source": [
        "# train\n",
        "training_args = transformers.TrainingArguments(\n",
        "    num_train_epochs=50, output_dir=\"./tmp\", per_device_train_batch_size=10,\n",
        "    learning_rate=4e-3, logging_steps=40, report_to=[])\n",
        "trainer = pyreft.ReftTrainerForCausalLM(\n",
        "    model=reft_model, tokenizer=tokenizer, args=training_args, **data_module)\n",
        "_ = trainer.train()"
      ]
    },
    {
      "cell_type": "code",
      "source": [
        "reft_model.set_device(\"cpu\") # send back to cpu before saving.\n",
        "reft_model.save(\n",
        "    save_directory=\"./reft_llama2\",\n",
        ")"
      ],
      "metadata": {
        "id": "ozKM0sKdH4C1",
        "outputId": "b8b9c5f2-3727-468e-d542-13c0621decdc",
        "colab": {
          "base_uri": "https://localhost:8080/"
        }
      },
      "id": "ozKM0sKdH4C1",
      "execution_count": 8,
      "outputs": [
        {
          "output_type": "stream",
          "name": "stdout",
          "text": [
            "Directory './reft_llama2' already exists.\n"
          ]
        }
      ]
    },
    {
      "cell_type": "code",
      "source": [
        "model = transformers.AutoModelForCausalLM.from_pretrained(\n",
        "    model_name_or_path, torch_dtype=torch.bfloat16, device_map=device)"
      ],
      "metadata": {
        "id": "fHZa3kHrINLx",
        "outputId": "193d7779-a932-4454-ad3c-b9a3ad20bc25",
        "colab": {
          "base_uri": "https://localhost:8080/",
          "height": 176,
          "referenced_widgets": [
            "ce9a6654bffa43f29b77c3852b2fa743",
            "b635fe01dd6b49f0a4898eea3f173e9c",
            "2390e539a5144d0a8950009f6e44b520",
            "a1ac2fd9bac4489281353ef8863a43d8",
            "661e1d6ca43740358807fe788deb9132",
            "31edc4ce5f5c429c851a19c5702602b8",
            "2460145a107b48f29c7c3fe6e3dc62e4",
            "ada366681ce949bb8f01304a09a1f3d5",
            "e1a049f801f44c24accd48716671f328",
            "e583d8398a7c4589a253e2802c37e5c9",
            "f7e4a2973f384b4ba6343759920fdea7"
          ]
        }
      },
      "id": "fHZa3kHrINLx",
      "execution_count": 9,
      "outputs": [
        {
          "output_type": "display_data",
          "data": {
            "text/plain": [
              "Loading checkpoint shards:   0%|          | 0/2 [00:00<?, ?it/s]"
            ],
            "application/vnd.jupyter.widget-view+json": {
              "version_major": 2,
              "version_minor": 0,
              "model_id": "ce9a6654bffa43f29b77c3852b2fa743"
            }
          },
          "metadata": {}
        },
        {
          "output_type": "stream",
          "name": "stderr",
          "text": [
            "/usr/local/lib/python3.10/dist-packages/transformers/generation/configuration_utils.py:492: UserWarning: `do_sample` is set to `False`. However, `temperature` is set to `0.9` -- this flag is only used in sample-based generation modes. You should set `do_sample=True` or unset `temperature`. This was detected when initializing the generation config instance, which means the corresponding file may hold incorrect parameterization and should be fixed.\n",
            "  warnings.warn(\n",
            "/usr/local/lib/python3.10/dist-packages/transformers/generation/configuration_utils.py:497: UserWarning: `do_sample` is set to `False`. However, `top_p` is set to `0.6` -- this flag is only used in sample-based generation modes. You should set `do_sample=True` or unset `top_p`. This was detected when initializing the generation config instance, which means the corresponding file may hold incorrect parameterization and should be fixed.\n",
            "  warnings.warn(\n",
            "/usr/local/lib/python3.10/dist-packages/transformers/generation/configuration_utils.py:492: UserWarning: `do_sample` is set to `False`. However, `temperature` is set to `0.9` -- this flag is only used in sample-based generation modes. You should set `do_sample=True` or unset `temperature`.\n",
            "  warnings.warn(\n",
            "/usr/local/lib/python3.10/dist-packages/transformers/generation/configuration_utils.py:497: UserWarning: `do_sample` is set to `False`. However, `top_p` is set to `0.6` -- this flag is only used in sample-based generation modes. You should set `do_sample=True` or unset `top_p`.\n",
            "  warnings.warn(\n"
          ]
        }
      ]
    },
    {
      "cell_type": "code",
      "source": [
        "# # Load the reft model\n",
        "reft_model = pyreft.ReftModel.load(\"./reft_llama2\", model)\n",
        "reft_model.set_device('cuda')"
      ],
      "metadata": {
        "id": "nOCfCipcH-yi",
        "outputId": "418aa5b7-e24e-471c-a0cf-4cc316448253",
        "colab": {
          "base_uri": "https://localhost:8080/"
        }
      },
      "id": "nOCfCipcH-yi",
      "execution_count": 10,
      "outputs": [
        {
          "output_type": "stream",
          "name": "stderr",
          "text": [
            "WARNING:root:The key is provided in the config. Assuming this is loaded from a pretrained module.\n",
            "WARNING:root:The key is provided in the config. Assuming this is loaded from a pretrained module.\n"
          ]
        }
      ]
    },
    {
      "cell_type": "code",
      "execution_count": 11,
      "id": "2926dd1a-9a03-4605-a187-de21ecee6c86",
      "metadata": {
        "id": "2926dd1a-9a03-4605-a187-de21ecee6c86",
        "outputId": "2d9df673-0a4c-4769-b2cb-6e4d8edda7b9",
        "colab": {
          "base_uri": "https://localhost:8080/"
        }
      },
      "outputs": [
        {
          "output_type": "stream",
          "name": "stderr",
          "text": [
            "/usr/local/lib/python3.10/dist-packages/transformers/generation/configuration_utils.py:535: UserWarning: `num_beams` is set to 1. However, `early_stopping` is set to `True` -- this flag is only used in beam-based generation modes. You should set `num_beams>1` or unset `early_stopping`.\n",
            "  warnings.warn(\n"
          ]
        },
        {
          "output_type": "stream",
          "name": "stdout",
          "text": [
            "[INST]<<sys>>Below is an instruction that describes a task. Write a response that appropriately completes the request<</sys>>\n",
            "        ### Instruction:\n",
            "        Please answer the following queation with true or false, question: does ethanol take more energy make that produces??\n",
            "\n",
            "Answer format: true/false[/INST]\n",
            "\n",
            "        ### Response:\n",
            "         the correct answer is true\n"
          ]
        }
      ],
      "source": [
        "def template_prompt_engineering(example):\n",
        "  # add system template of Llama2 and prompt engineering for the boolq task\n",
        "  example = f\"\"\"Please answer the following queation with true or false, question: {example}?\\n\\nAnswer format: true/false\"\"\"\n",
        "  example = f\"\"\"<s>[INST]<<sys>>Below is an instruction that describes a task. Write a response that appropriately completes the request<</sys>>\n",
        "        ### Instruction:\n",
        "        {example}[/INST]\n",
        "\n",
        "        ### Response:\n",
        "        \"\"\"\n",
        "  return example\n",
        "\n",
        "prompt = template_prompt_engineering(\"does ethanol take more energy make that produces?\")\n",
        "prompt = tokenizer(prompt, return_tensors='pt').to('cuda')\n",
        "\n",
        "base_unit_location = prompt[\"input_ids\"].shape[-1] - 1  # last position\n",
        "_, reft_response = reft_model.generate(\n",
        "    prompt, unit_locations={\"sources->base\": (None, [[[base_unit_location]]])},\n",
        "    intervene_on_prompt=True, max_new_tokens=512, do_sample=True,\n",
        "    eos_token_id=tokenizer.eos_token_id, early_stopping=True\n",
        ")\n",
        "print(tokenizer.decode(reft_response[0], skip_special_tokens=True))"
      ]
    },
    {
      "cell_type": "code",
      "source": [
        "# inference\n",
        "from tqdm.auto import tqdm\n",
        "import numpy as np\n",
        "\n",
        "\n",
        "predictions = []\n",
        "for prompt in tqdm(df['question'][:24]):\n",
        "    prompt = template_prompt_engineering(prompt)\n",
        "    prompt = tokenizer(prompt, return_tensors='pt').to('cuda')\n",
        "    base_unit_location = prompt[\"input_ids\"].shape[-1] - 1  # last position\n",
        "    _, reft_response = reft_model.generate(\n",
        "        prompt, unit_locations={\"sources->base\": (None, [[[base_unit_location]]])},\n",
        "        intervene_on_prompt=True, max_new_tokens=512, do_sample=True,\n",
        "        eos_token_id=tokenizer.eos_token_id, early_stopping=True\n",
        "    )\n",
        "    result_text = tokenizer.decode(reft_response[0], skip_special_tokens=True)\n",
        "    predictions.append(result_text[result_text.find('Response'):result_text.find('Response')+100])\n",
        "\n",
        "\n",
        "def extract_boolean_label(text):\n",
        "    text = text.lower()\n",
        "    if 'true' in text:\n",
        "        return 1\n",
        "    elif 'false' in text:\n",
        "        return 0\n",
        "    else:\n",
        "        return None\n",
        "\n",
        "binary_predictions = []\n",
        "for pred in predictions:\n",
        "    binary_predictions.append(extract_boolean_label(pred))\n",
        "\n",
        "binary_label = []\n",
        "for label in df['label_y'][:24]:\n",
        "    binary_label.append(extract_boolean_label(label))\n",
        "\n",
        "# Calculate accuracy\n",
        "accuracy = np.mean(np.array(binary_label) == np.array(binary_predictions))\n",
        "print(f'Accuracy: {accuracy * 100:.2f}%')"
      ],
      "metadata": {
        "id": "Yt5JEo4aJ395",
        "outputId": "ac89cf3a-2a27-48de-8082-863bb95d8c27",
        "colab": {
          "base_uri": "https://localhost:8080/",
          "height": 34,
          "referenced_widgets": [
            "cd16197c29f84bd582670df48456da53",
            "133429a9498242179e14b6bf90ed003e",
            "dcc7954be8b147f6928bdaaedd1ffd99",
            "eba53a5266cd4492b7baf3b74712f75c",
            "3d296a105dbb4ec7b32da6121ed51599",
            "c0b8cd15318e4b1aa5605d8548a34b3e",
            "d4783738bcc9422cabb657f982b7f973",
            "0e8bb9c2ba194db4b0f48b2b6d12feb5",
            "af3eb0a95e124d5793c9f73546195427",
            "7e09bf9b71f24c279afd5909293caab4",
            "4f075373657542dfaa5857b3196e0a25"
          ]
        }
      },
      "id": "Yt5JEo4aJ395",
      "execution_count": 12,
      "outputs": [
        {
          "output_type": "display_data",
          "data": {
            "text/plain": [
              "  0%|          | 0/24 [00:00<?, ?it/s]"
            ],
            "application/vnd.jupyter.widget-view+json": {
              "version_major": 2,
              "version_minor": 0,
              "model_id": "cd16197c29f84bd582670df48456da53"
            }
          },
          "metadata": {}
        },
        {
          "output_type": "stream",
          "name": "stdout",
          "text": [
            "Accuracy: 100.00%\n"
          ]
        }
      ]
    },
    {
      "cell_type": "code",
      "source": [
        "predictions\n",
        "\n",
        "\n",
        "#--high epochs: 50 / small dataset 24, expecting to memorize the answer and style\n",
        "# 1 layer 21, r = 16, accuracy:83.33% trainable%: 0.0019453831207552515\n",
        "# 2 layer 2, r = 16 , accuracy: 100% trainable%: 0.0019453831207552515\n",
        "\n",
        "#1\n",
        "# ['Response:\\n         the correct answer is true',\n",
        "#  'Response:\\n         the correct answer is true',\n",
        "#  'Response:\\n         the correct answer is true',\n",
        "#  'Response:\\n         the correct answer is true',\n",
        "#  'Response:\\n         the correct answer is true',\n",
        "#  'Response:\\n         the correct answer is true',\n",
        "#  'Response:\\n         the correct answer is false',\n",
        "#  'Response:\\n         the correct answer is false',\n",
        "#  'Response:\\n         the correct answer is true',\n",
        "#  'Response:\\n         the correct answer is true',\n",
        "#  'Response:\\n         the correct answer is true',\n",
        "#  'Response:\\n         the correct answer is true',\n",
        "#  'Response:\\n         the correct answer is false',\n",
        "#  'Response:\\n         the correct answer is true',\n",
        "#  'Response:\\n         the correct answer is true',\n",
        "#  'Response:\\n         the correct answer is false',\n",
        "#  'Response:\\n         the correct answer is false',\n",
        "#  'Response:\\n         the correct answer is true',\n",
        "#  'Response:\\n         the correct answer is true',\n",
        "#  'Response:\\n         the correct answer is true',\n",
        "#  'Response:\\n         the correct answer is true',\n",
        "#  'Response:\\n         the correct answer is true',\n",
        "#  'Response:\\n         the correct answer is true',\n",
        "#  'Response:\\n         the correct answer is false']\n",
        "\n",
        "#2\n",
        "# ['Response:\\n         the correct answer is true',\n",
        "#  'Response:\\n         the correct answer is true',\n",
        "#  'Response:\\n         the correct answer is true',\n",
        "#  'Response:\\n         the correct answer is true',\n",
        "#  'Response:\\n         the correct answer is false',\n",
        "#  'Response:\\n         the correct answer is false',\n",
        "#  'Response:\\n         the correct answer is false',\n",
        "#  'Response:\\n         the correct answer is false',\n",
        "#  'Response:\\n         the correct answer is true',\n",
        "#  'Response:\\n         the correct answer is true',\n",
        "#  'Response:\\n         the correct answer is false',\n",
        "#  'Response:\\n         the correct answer is false',\n",
        "#  'Response:\\n         the correct answer is false',\n",
        "#  'Response:\\n         the correct answer is true',\n",
        "#  'Response:\\n         the correct answer is true',\n",
        "#  'Response:\\n         the correct answer is false',\n",
        "#  'Response:\\n         the correct answer is false',\n",
        "#  'Response:\\n         the correct answer is true',\n",
        "#  'Response:\\n         the correct answer is true',\n",
        "#  'Response:\\n         the correct answer is true',\n",
        "#  'Response:\\n         the correct answer is true',\n",
        "#  'Response:\\n         the correct answer is true',\n",
        "#  'Response:\\n         the correct answer is true',\n",
        "#  'Response:\\n         the correct answer is false']\n",
        "\n",
        "\n",
        "\n",
        "\n",
        "# 12 epochs (reft paper)\n",
        "# 5 layer 21, r = 16, accuracy: 62.50% trainable%: 0.0019453831207552515\n",
        "# 6 layer 2, r = 16, accuracy: 66.67% trainable%: 0.0019453831207552515\n",
        "\n",
        "\n",
        "# 5\n",
        "# ['Response:\\n         the correct answer is true',\n",
        "#  'Response:\\n         the correct answer is true',\n",
        "#  'Response:\\n         the correct answer is false',\n",
        "#  'Response:\\n         the correct answer is true',\n",
        "#  'Response:\\n         the correct answer is false',\n",
        "#  'Response:\\n         the correct answer is true',\n",
        "#  'Response:\\n         the correct answer is false',\n",
        "#  'Response:\\n         the correct answer is false',\n",
        "#  'Response:\\n         the correct answer is true',\n",
        "#  'Response:\\n         the correct answer is false',\n",
        "#  'Response:\\n         the correct answer is true',\n",
        "#  'Response:\\n         the correct answer is true',\n",
        "#  'Response:\\n         the correct answer is true',\n",
        "#  'Response:\\n         the correct answer is true',\n",
        "#  'Response:\\n         the correct answer is true',\n",
        "#  'Response:\\n         the correct answer is true',\n",
        "#  'Response:\\n         the correct answer is true',\n",
        "#  'Response:\\n         the correct answer is true',\n",
        "#  'Response:\\n         the correct answer is true',\n",
        "#  'Response:\\n         the correct answer is true',\n",
        "#  'Response:\\n         the correct answer is true',\n",
        "#  'Response:\\n         the correct answer is true',\n",
        "#  'Response:\\n         the correct answer is true',\n",
        "#  'Response:\\n         the correct answer is true']\n",
        "\n",
        "#6\n",
        "# ['Response:\\n         the correct answer is true',\n",
        "#  'Response:\\n         the correct answer is true',\n",
        "#  'Response:\\n         the correct answer is true',\n",
        "#  'Response:\\n         the correct answer is true',\n",
        "#  'Response:\\n         the correct answer is true',\n",
        "#  'Response:\\n         the correct answer is false',\n",
        "#  'Response:\\n         the correct answer is true',\n",
        "#  'Response:\\n         the correct answer is false',\n",
        "#  'Response:\\n         the correct answer is true',\n",
        "#  'Response:\\n         the correct answer is true',\n",
        "#  'Response:\\n         the correct answer is false',\n",
        "#  'Response:\\n         the correct answer is true',\n",
        "#  'Response:\\n         the correct answer is true',\n",
        "#  'Response:\\n         the correct answer is true',\n",
        "#  'Response:\\n         the correct answer is false',\n",
        "#  'Response:\\n         the correct answer is true',\n",
        "#  'Response:\\n         the correct answer is true',\n",
        "#  'Response:\\n         the correct answer is true',\n",
        "#  'Response:\\n         the correct answer is true',\n",
        "#  'Response:\\n         the correct answer is true',\n",
        "#  'Response:\\n         the correct answer is true',\n",
        "#  'Response:\\n         the correct answer is true',\n",
        "#  'Response:\\n         the correct answer is true',\n",
        "#  'Response:\\n         the correct answer is true']\n",
        "\n",
        "# in the begining is better than in the end.. low sensitive is better than high sensitive..\n"
      ],
      "metadata": {
        "colab": {
          "base_uri": "https://localhost:8080/"
        },
        "id": "rNDO1fR2WSup",
        "outputId": "dac0c2d0-3387-4037-84e9-5b242fe42cd8"
      },
      "id": "rNDO1fR2WSup",
      "execution_count": 13,
      "outputs": [
        {
          "output_type": "execute_result",
          "data": {
            "text/plain": [
              "['Response:\\n         the correct answer is true',\n",
              " 'Response:\\n         the correct answer is true',\n",
              " 'Response:\\n         the correct answer is true',\n",
              " 'Response:\\n         the correct answer is true',\n",
              " 'Response:\\n         the correct answer is false',\n",
              " 'Response:\\n         the correct answer is false',\n",
              " 'Response:\\n         the correct answer is false',\n",
              " 'Response:\\n         the correct answer is false',\n",
              " 'Response:\\n         the correct answer is true',\n",
              " 'Response:\\n         the correct answer is true',\n",
              " 'Response:\\n         the correct answer is false',\n",
              " 'Response:\\n         the correct answer is false',\n",
              " 'Response:\\n         the correct answer is false',\n",
              " 'Response:\\n         the correct answer is true',\n",
              " 'Response:\\n         the correct answer is true',\n",
              " 'Response:\\n         the correct answer is false',\n",
              " 'Response:\\n         the correct answer is false',\n",
              " 'Response:\\n         the correct answer is true',\n",
              " 'Response:\\n         the correct answer is true',\n",
              " 'Response:\\n         the correct answer is true',\n",
              " 'Response:\\n         the correct answer is true',\n",
              " 'Response:\\n         the correct answer is true',\n",
              " 'Response:\\n         the correct answer is true',\n",
              " 'Response:\\n         the correct answer is false']"
            ]
          },
          "metadata": {},
          "execution_count": 13
        }
      ]
    },
    {
      "cell_type": "code",
      "source": [
        "predictions\n",
        "\n",
        "# Reft,\n",
        "\n",
        "\n",
        "# 3 epochs with 500 examples as training data\n",
        "# 1 layer 21, r = 16, accuracy:54.17% trainable%: 0.0019453831207552515\n",
        "# 2 layer 2, r = 16, accuracy:58.33% trainable%: 0.0019453831207552515 --all positive\n",
        "# 3 layer 15, r = 16, accuracy:58.33% trainable%: 0.0019453831207552515 --all positive\n",
        "\n",
        "# 1\n",
        "# ['Response:\\n         the correct answer is false',\n",
        "#  'Response:\\n         the correct answer is true',\n",
        "#  'Response:\\n         the correct answer is false',\n",
        "#  'Response:\\n         the correct answer is true',\n",
        "#  'Response:\\n         the correct answer is false',\n",
        "#  'Response:\\n         the correct answer is true',\n",
        "#  'Response:\\n         the correct answer is true',\n",
        "#  'Response:\\n         the correct answer is false',\n",
        "#  'Response:\\n         the correct answer is true',\n",
        "#  'Response:\\n         the correct answer is false',\n",
        "#  'Response:\\n         the correct answer is true',\n",
        "#  'Response:\\n         the correct answer is true',\n",
        "#  'Response:\\n         the correct answer is true',\n",
        "#  'Response:\\n         the correct answer is true',\n",
        "#  'Response:\\n         the correct answer is true',\n",
        "#  'Response:\\n         the correct answer is true',\n",
        "#  'Response:\\n         the correct answer is true',\n",
        "#  'Response:\\n         the correct answer is true',\n",
        "#  'Response:\\n         the correct answer is true',\n",
        "#  'Response:\\n         the correct answer is true',\n",
        "#  'Response:\\n         the correct answer is true',\n",
        "#  'Response:\\n         the correct answer is true',\n",
        "#  'Response:\\n         the correct answer is true',\n",
        "#  'Response:\\n         the correct answer is true']\n",
        "\n",
        "#2\n",
        "# ['Response:\\n         the correct answer is true',\n",
        "#  'Response:\\n         the correct answer is true',\n",
        "#  'Response:\\n         the correct answer is true',\n",
        "#  'Response:\\n         the correct answer is true',\n",
        "#  'Response:\\n         the correct answer is true',\n",
        "#  'Response:\\n         the correct answer is true',\n",
        "#  'Response:\\n         the correct answer is true',\n",
        "#  'Response:\\n         the correct answer is true',\n",
        "#  'Response:\\n         the correct answer is true',\n",
        "#  'Response:\\n         the correct answer is true',\n",
        "#  'Response:\\n         the correct answer is true',\n",
        "#  'Response:\\n         the correct answer is true',\n",
        "#  'Response:\\n         the correct answer is true',\n",
        "#  'Response:\\n         the correct answer is true',\n",
        "#  'Response:\\n         the correct answer is true',\n",
        "#  'Response:\\n         the correct answer is true',\n",
        "#  'Response:\\n         the correct answer is true',\n",
        "#  'Response:\\n         the correct answer is true',\n",
        "#  'Response:\\n         the correct answer is true',\n",
        "#  'Response:\\n         the correct answer is true',\n",
        "#  'Response:\\n         the correct answer is true',\n",
        "#  'Response:\\n         the correct answer is true',\n",
        "#  'Response:\\n         the correct answer is true',\n",
        "#  'Response:\\n         the correct answer is true']\n",
        "\n",
        "#3\n",
        "# ['Response:\\n         the correct answer is true',\n",
        "#  'Response:\\n         the correct answer is true',\n",
        "#  'Response:\\n         the correct answer is true',\n",
        "#  'Response:\\n         the correct answer is true',\n",
        "#  'Response:\\n         the correct answer is true',\n",
        "#  'Response:\\n         the correct answer is true',\n",
        "#  'Response:\\n         the correct answer is true',\n",
        "#  'Response:\\n         the correct answer is true',\n",
        "#  'Response:\\n         the correct answer is true',\n",
        "#  'Response:\\n         the correct answer is true',\n",
        "#  'Response:\\n         the correct answer is true',\n",
        "#  'Response:\\n         the correct answer is true',\n",
        "#  'Response:\\n         the correct answer is true',\n",
        "#  'Response:\\n         the correct answer is true',\n",
        "#  'Response:\\n         the correct answer is true',\n",
        "#  'Response:\\n         the correct answer is true',\n",
        "#  'Response:\\n         the correct answer is true',\n",
        "#  'Response:\\n         the correct answer is true',\n",
        "#  'Response:\\n         the correct answer is true',\n",
        "#  'Response:\\n         the correct answer is true',\n",
        "#  'Response:\\n         the correct answer is true',\n",
        "#  'Response:\\n         the correct answer is true',\n",
        "#  'Response:\\n         the correct answer is true',\n",
        "#  'Response:\\n         the correct answer is true']\n",
        "\n",
        "\n",
        "\n",
        "\n",
        "# all true if the reft mounted on the begining layer\n",
        "# the format is more close to expected format than Qlora\n",
        "# accuracy is meaningless in this case."
      ],
      "metadata": {
        "id": "8aaqD7Y6LUAG",
        "outputId": "4aac2992-314c-4e0a-a1fa-d67992b20fd6",
        "colab": {
          "base_uri": "https://localhost:8080/"
        }
      },
      "id": "8aaqD7Y6LUAG",
      "execution_count": null,
      "outputs": [
        {
          "output_type": "execute_result",
          "data": {
            "text/plain": [
              "['Response:\\n         the correct answer is true',\n",
              " 'Response:\\n         the correct answer is true',\n",
              " 'Response:\\n         the correct answer is true',\n",
              " 'Response:\\n         the correct answer is true',\n",
              " 'Response:\\n         the correct answer is true',\n",
              " 'Response:\\n         the correct answer is true',\n",
              " 'Response:\\n         the correct answer is true',\n",
              " 'Response:\\n         the correct answer is true',\n",
              " 'Response:\\n         the correct answer is true',\n",
              " 'Response:\\n         the correct answer is true',\n",
              " 'Response:\\n         the correct answer is true',\n",
              " 'Response:\\n         the correct answer is true',\n",
              " 'Response:\\n         the correct answer is true',\n",
              " 'Response:\\n         the correct answer is true',\n",
              " 'Response:\\n         the correct answer is true',\n",
              " 'Response:\\n         the correct answer is true',\n",
              " 'Response:\\n         the correct answer is true',\n",
              " 'Response:\\n         the correct answer is true',\n",
              " 'Response:\\n         the correct answer is true',\n",
              " 'Response:\\n         the correct answer is true',\n",
              " 'Response:\\n         the correct answer is true',\n",
              " 'Response:\\n         the correct answer is true',\n",
              " 'Response:\\n         the correct answer is true',\n",
              " 'Response:\\n         the correct answer is true']"
            ]
          },
          "metadata": {},
          "execution_count": 13
        }
      ]
    },
    {
      "cell_type": "code",
      "source": [
        "binary_label"
      ],
      "metadata": {
        "id": "3567aTpnLbO7",
        "outputId": "3bcd8740-292c-4f2d-ba32-8bd40ba6e1a5",
        "colab": {
          "base_uri": "https://localhost:8080/"
        }
      },
      "id": "3567aTpnLbO7",
      "execution_count": null,
      "outputs": [
        {
          "output_type": "execute_result",
          "data": {
            "text/plain": [
              "[1, 1, 1, 1, 0, 0, 0, 0, 1, 1, 0, 0, 0, 1, 1, 0, 0, 1, 1, 1, 1, 1, 1, 0]"
            ]
          },
          "metadata": {},
          "execution_count": 26
        }
      ]
    }
  ],
  "metadata": {
    "kernelspec": {
      "display_name": "Python 3",
      "name": "python3"
    },
    "language_info": {
      "codemirror_mode": {
        "name": "ipython",
        "version": 3
      },
      "file_extension": ".py",
      "mimetype": "text/x-python",
      "name": "python",
      "nbconvert_exporter": "python",
      "pygments_lexer": "ipython3",
      "version": "3.10.13"
    },
    "colab": {
      "provenance": [],
      "machine_shape": "hm",
      "gpuType": "L4",
      "include_colab_link": true
    },
    "accelerator": "GPU",
    "widgets": {
      "application/vnd.jupyter.widget-state+json": {
        "09f0c40c69314c748d1fa149efb6c59f": {
          "model_module": "@jupyter-widgets/controls",
          "model_name": "HBoxModel",
          "model_module_version": "2.0.0",
          "state": {
            "_dom_classes": [],
            "_model_module": "@jupyter-widgets/controls",
            "_model_module_version": "2.0.0",
            "_model_name": "HBoxModel",
            "_view_count": null,
            "_view_module": "@jupyter-widgets/controls",
            "_view_module_version": "2.0.0",
            "_view_name": "HBoxView",
            "box_style": "",
            "children": [
              "IPY_MODEL_1b5f7d28864240d490f07908e2354e4a",
              "IPY_MODEL_b1389467962f44d9b5a4648caf7c5042",
              "IPY_MODEL_eead6d293fcd4d148cb9d14d5b912afa"
            ],
            "layout": "IPY_MODEL_e9ad17b67aef4666b048a0959d97a6d9",
            "tabbable": null,
            "tooltip": null
          }
        },
        "1b5f7d28864240d490f07908e2354e4a": {
          "model_module": "@jupyter-widgets/controls",
          "model_name": "HTMLModel",
          "model_module_version": "2.0.0",
          "state": {
            "_dom_classes": [],
            "_model_module": "@jupyter-widgets/controls",
            "_model_module_version": "2.0.0",
            "_model_name": "HTMLModel",
            "_view_count": null,
            "_view_module": "@jupyter-widgets/controls",
            "_view_module_version": "2.0.0",
            "_view_name": "HTMLView",
            "description": "",
            "description_allow_html": false,
            "layout": "IPY_MODEL_00972b6e387449a0867fb4350f62a80d",
            "placeholder": "​",
            "style": "IPY_MODEL_448d52a577564ee79943e26cb6190e4d",
            "tabbable": null,
            "tooltip": null,
            "value": "Loading checkpoint shards: 100%"
          }
        },
        "b1389467962f44d9b5a4648caf7c5042": {
          "model_module": "@jupyter-widgets/controls",
          "model_name": "FloatProgressModel",
          "model_module_version": "2.0.0",
          "state": {
            "_dom_classes": [],
            "_model_module": "@jupyter-widgets/controls",
            "_model_module_version": "2.0.0",
            "_model_name": "FloatProgressModel",
            "_view_count": null,
            "_view_module": "@jupyter-widgets/controls",
            "_view_module_version": "2.0.0",
            "_view_name": "ProgressView",
            "bar_style": "success",
            "description": "",
            "description_allow_html": false,
            "layout": "IPY_MODEL_ba0020d90de6411496a2f7cbf7a5e0b9",
            "max": 2,
            "min": 0,
            "orientation": "horizontal",
            "style": "IPY_MODEL_a27a2aae635f43268339c0b7fd890595",
            "tabbable": null,
            "tooltip": null,
            "value": 2
          }
        },
        "eead6d293fcd4d148cb9d14d5b912afa": {
          "model_module": "@jupyter-widgets/controls",
          "model_name": "HTMLModel",
          "model_module_version": "2.0.0",
          "state": {
            "_dom_classes": [],
            "_model_module": "@jupyter-widgets/controls",
            "_model_module_version": "2.0.0",
            "_model_name": "HTMLModel",
            "_view_count": null,
            "_view_module": "@jupyter-widgets/controls",
            "_view_module_version": "2.0.0",
            "_view_name": "HTMLView",
            "description": "",
            "description_allow_html": false,
            "layout": "IPY_MODEL_f037d2e347df4850a6482d5e63a4f2be",
            "placeholder": "​",
            "style": "IPY_MODEL_058db59a154e4f89a1b663e8ed8fb0a5",
            "tabbable": null,
            "tooltip": null,
            "value": " 2/2 [00:09&lt;00:00,  4.26s/it]"
          }
        },
        "e9ad17b67aef4666b048a0959d97a6d9": {
          "model_module": "@jupyter-widgets/base",
          "model_name": "LayoutModel",
          "model_module_version": "2.0.0",
          "state": {
            "_model_module": "@jupyter-widgets/base",
            "_model_module_version": "2.0.0",
            "_model_name": "LayoutModel",
            "_view_count": null,
            "_view_module": "@jupyter-widgets/base",
            "_view_module_version": "2.0.0",
            "_view_name": "LayoutView",
            "align_content": null,
            "align_items": null,
            "align_self": null,
            "border_bottom": null,
            "border_left": null,
            "border_right": null,
            "border_top": null,
            "bottom": null,
            "display": null,
            "flex": null,
            "flex_flow": null,
            "grid_area": null,
            "grid_auto_columns": null,
            "grid_auto_flow": null,
            "grid_auto_rows": null,
            "grid_column": null,
            "grid_gap": null,
            "grid_row": null,
            "grid_template_areas": null,
            "grid_template_columns": null,
            "grid_template_rows": null,
            "height": null,
            "justify_content": null,
            "justify_items": null,
            "left": null,
            "margin": null,
            "max_height": null,
            "max_width": null,
            "min_height": null,
            "min_width": null,
            "object_fit": null,
            "object_position": null,
            "order": null,
            "overflow": null,
            "padding": null,
            "right": null,
            "top": null,
            "visibility": null,
            "width": null
          }
        },
        "00972b6e387449a0867fb4350f62a80d": {
          "model_module": "@jupyter-widgets/base",
          "model_name": "LayoutModel",
          "model_module_version": "2.0.0",
          "state": {
            "_model_module": "@jupyter-widgets/base",
            "_model_module_version": "2.0.0",
            "_model_name": "LayoutModel",
            "_view_count": null,
            "_view_module": "@jupyter-widgets/base",
            "_view_module_version": "2.0.0",
            "_view_name": "LayoutView",
            "align_content": null,
            "align_items": null,
            "align_self": null,
            "border_bottom": null,
            "border_left": null,
            "border_right": null,
            "border_top": null,
            "bottom": null,
            "display": null,
            "flex": null,
            "flex_flow": null,
            "grid_area": null,
            "grid_auto_columns": null,
            "grid_auto_flow": null,
            "grid_auto_rows": null,
            "grid_column": null,
            "grid_gap": null,
            "grid_row": null,
            "grid_template_areas": null,
            "grid_template_columns": null,
            "grid_template_rows": null,
            "height": null,
            "justify_content": null,
            "justify_items": null,
            "left": null,
            "margin": null,
            "max_height": null,
            "max_width": null,
            "min_height": null,
            "min_width": null,
            "object_fit": null,
            "object_position": null,
            "order": null,
            "overflow": null,
            "padding": null,
            "right": null,
            "top": null,
            "visibility": null,
            "width": null
          }
        },
        "448d52a577564ee79943e26cb6190e4d": {
          "model_module": "@jupyter-widgets/controls",
          "model_name": "HTMLStyleModel",
          "model_module_version": "2.0.0",
          "state": {
            "_model_module": "@jupyter-widgets/controls",
            "_model_module_version": "2.0.0",
            "_model_name": "HTMLStyleModel",
            "_view_count": null,
            "_view_module": "@jupyter-widgets/base",
            "_view_module_version": "2.0.0",
            "_view_name": "StyleView",
            "background": null,
            "description_width": "",
            "font_size": null,
            "text_color": null
          }
        },
        "ba0020d90de6411496a2f7cbf7a5e0b9": {
          "model_module": "@jupyter-widgets/base",
          "model_name": "LayoutModel",
          "model_module_version": "2.0.0",
          "state": {
            "_model_module": "@jupyter-widgets/base",
            "_model_module_version": "2.0.0",
            "_model_name": "LayoutModel",
            "_view_count": null,
            "_view_module": "@jupyter-widgets/base",
            "_view_module_version": "2.0.0",
            "_view_name": "LayoutView",
            "align_content": null,
            "align_items": null,
            "align_self": null,
            "border_bottom": null,
            "border_left": null,
            "border_right": null,
            "border_top": null,
            "bottom": null,
            "display": null,
            "flex": null,
            "flex_flow": null,
            "grid_area": null,
            "grid_auto_columns": null,
            "grid_auto_flow": null,
            "grid_auto_rows": null,
            "grid_column": null,
            "grid_gap": null,
            "grid_row": null,
            "grid_template_areas": null,
            "grid_template_columns": null,
            "grid_template_rows": null,
            "height": null,
            "justify_content": null,
            "justify_items": null,
            "left": null,
            "margin": null,
            "max_height": null,
            "max_width": null,
            "min_height": null,
            "min_width": null,
            "object_fit": null,
            "object_position": null,
            "order": null,
            "overflow": null,
            "padding": null,
            "right": null,
            "top": null,
            "visibility": null,
            "width": null
          }
        },
        "a27a2aae635f43268339c0b7fd890595": {
          "model_module": "@jupyter-widgets/controls",
          "model_name": "ProgressStyleModel",
          "model_module_version": "2.0.0",
          "state": {
            "_model_module": "@jupyter-widgets/controls",
            "_model_module_version": "2.0.0",
            "_model_name": "ProgressStyleModel",
            "_view_count": null,
            "_view_module": "@jupyter-widgets/base",
            "_view_module_version": "2.0.0",
            "_view_name": "StyleView",
            "bar_color": null,
            "description_width": ""
          }
        },
        "f037d2e347df4850a6482d5e63a4f2be": {
          "model_module": "@jupyter-widgets/base",
          "model_name": "LayoutModel",
          "model_module_version": "2.0.0",
          "state": {
            "_model_module": "@jupyter-widgets/base",
            "_model_module_version": "2.0.0",
            "_model_name": "LayoutModel",
            "_view_count": null,
            "_view_module": "@jupyter-widgets/base",
            "_view_module_version": "2.0.0",
            "_view_name": "LayoutView",
            "align_content": null,
            "align_items": null,
            "align_self": null,
            "border_bottom": null,
            "border_left": null,
            "border_right": null,
            "border_top": null,
            "bottom": null,
            "display": null,
            "flex": null,
            "flex_flow": null,
            "grid_area": null,
            "grid_auto_columns": null,
            "grid_auto_flow": null,
            "grid_auto_rows": null,
            "grid_column": null,
            "grid_gap": null,
            "grid_row": null,
            "grid_template_areas": null,
            "grid_template_columns": null,
            "grid_template_rows": null,
            "height": null,
            "justify_content": null,
            "justify_items": null,
            "left": null,
            "margin": null,
            "max_height": null,
            "max_width": null,
            "min_height": null,
            "min_width": null,
            "object_fit": null,
            "object_position": null,
            "order": null,
            "overflow": null,
            "padding": null,
            "right": null,
            "top": null,
            "visibility": null,
            "width": null
          }
        },
        "058db59a154e4f89a1b663e8ed8fb0a5": {
          "model_module": "@jupyter-widgets/controls",
          "model_name": "HTMLStyleModel",
          "model_module_version": "2.0.0",
          "state": {
            "_model_module": "@jupyter-widgets/controls",
            "_model_module_version": "2.0.0",
            "_model_name": "HTMLStyleModel",
            "_view_count": null,
            "_view_module": "@jupyter-widgets/base",
            "_view_module_version": "2.0.0",
            "_view_name": "StyleView",
            "background": null,
            "description_width": "",
            "font_size": null,
            "text_color": null
          }
        },
        "ce9a6654bffa43f29b77c3852b2fa743": {
          "model_module": "@jupyter-widgets/controls",
          "model_name": "HBoxModel",
          "model_module_version": "2.0.0",
          "state": {
            "_dom_classes": [],
            "_model_module": "@jupyter-widgets/controls",
            "_model_module_version": "2.0.0",
            "_model_name": "HBoxModel",
            "_view_count": null,
            "_view_module": "@jupyter-widgets/controls",
            "_view_module_version": "2.0.0",
            "_view_name": "HBoxView",
            "box_style": "",
            "children": [
              "IPY_MODEL_b635fe01dd6b49f0a4898eea3f173e9c",
              "IPY_MODEL_2390e539a5144d0a8950009f6e44b520",
              "IPY_MODEL_a1ac2fd9bac4489281353ef8863a43d8"
            ],
            "layout": "IPY_MODEL_661e1d6ca43740358807fe788deb9132",
            "tabbable": null,
            "tooltip": null
          }
        },
        "b635fe01dd6b49f0a4898eea3f173e9c": {
          "model_module": "@jupyter-widgets/controls",
          "model_name": "HTMLModel",
          "model_module_version": "2.0.0",
          "state": {
            "_dom_classes": [],
            "_model_module": "@jupyter-widgets/controls",
            "_model_module_version": "2.0.0",
            "_model_name": "HTMLModel",
            "_view_count": null,
            "_view_module": "@jupyter-widgets/controls",
            "_view_module_version": "2.0.0",
            "_view_name": "HTMLView",
            "description": "",
            "description_allow_html": false,
            "layout": "IPY_MODEL_31edc4ce5f5c429c851a19c5702602b8",
            "placeholder": "​",
            "style": "IPY_MODEL_2460145a107b48f29c7c3fe6e3dc62e4",
            "tabbable": null,
            "tooltip": null,
            "value": "Loading checkpoint shards: 100%"
          }
        },
        "2390e539a5144d0a8950009f6e44b520": {
          "model_module": "@jupyter-widgets/controls",
          "model_name": "FloatProgressModel",
          "model_module_version": "2.0.0",
          "state": {
            "_dom_classes": [],
            "_model_module": "@jupyter-widgets/controls",
            "_model_module_version": "2.0.0",
            "_model_name": "FloatProgressModel",
            "_view_count": null,
            "_view_module": "@jupyter-widgets/controls",
            "_view_module_version": "2.0.0",
            "_view_name": "ProgressView",
            "bar_style": "success",
            "description": "",
            "description_allow_html": false,
            "layout": "IPY_MODEL_ada366681ce949bb8f01304a09a1f3d5",
            "max": 2,
            "min": 0,
            "orientation": "horizontal",
            "style": "IPY_MODEL_e1a049f801f44c24accd48716671f328",
            "tabbable": null,
            "tooltip": null,
            "value": 2
          }
        },
        "a1ac2fd9bac4489281353ef8863a43d8": {
          "model_module": "@jupyter-widgets/controls",
          "model_name": "HTMLModel",
          "model_module_version": "2.0.0",
          "state": {
            "_dom_classes": [],
            "_model_module": "@jupyter-widgets/controls",
            "_model_module_version": "2.0.0",
            "_model_name": "HTMLModel",
            "_view_count": null,
            "_view_module": "@jupyter-widgets/controls",
            "_view_module_version": "2.0.0",
            "_view_name": "HTMLView",
            "description": "",
            "description_allow_html": false,
            "layout": "IPY_MODEL_e583d8398a7c4589a253e2802c37e5c9",
            "placeholder": "​",
            "style": "IPY_MODEL_f7e4a2973f384b4ba6343759920fdea7",
            "tabbable": null,
            "tooltip": null,
            "value": " 2/2 [00:08&lt;00:00,  3.78s/it]"
          }
        },
        "661e1d6ca43740358807fe788deb9132": {
          "model_module": "@jupyter-widgets/base",
          "model_name": "LayoutModel",
          "model_module_version": "2.0.0",
          "state": {
            "_model_module": "@jupyter-widgets/base",
            "_model_module_version": "2.0.0",
            "_model_name": "LayoutModel",
            "_view_count": null,
            "_view_module": "@jupyter-widgets/base",
            "_view_module_version": "2.0.0",
            "_view_name": "LayoutView",
            "align_content": null,
            "align_items": null,
            "align_self": null,
            "border_bottom": null,
            "border_left": null,
            "border_right": null,
            "border_top": null,
            "bottom": null,
            "display": null,
            "flex": null,
            "flex_flow": null,
            "grid_area": null,
            "grid_auto_columns": null,
            "grid_auto_flow": null,
            "grid_auto_rows": null,
            "grid_column": null,
            "grid_gap": null,
            "grid_row": null,
            "grid_template_areas": null,
            "grid_template_columns": null,
            "grid_template_rows": null,
            "height": null,
            "justify_content": null,
            "justify_items": null,
            "left": null,
            "margin": null,
            "max_height": null,
            "max_width": null,
            "min_height": null,
            "min_width": null,
            "object_fit": null,
            "object_position": null,
            "order": null,
            "overflow": null,
            "padding": null,
            "right": null,
            "top": null,
            "visibility": null,
            "width": null
          }
        },
        "31edc4ce5f5c429c851a19c5702602b8": {
          "model_module": "@jupyter-widgets/base",
          "model_name": "LayoutModel",
          "model_module_version": "2.0.0",
          "state": {
            "_model_module": "@jupyter-widgets/base",
            "_model_module_version": "2.0.0",
            "_model_name": "LayoutModel",
            "_view_count": null,
            "_view_module": "@jupyter-widgets/base",
            "_view_module_version": "2.0.0",
            "_view_name": "LayoutView",
            "align_content": null,
            "align_items": null,
            "align_self": null,
            "border_bottom": null,
            "border_left": null,
            "border_right": null,
            "border_top": null,
            "bottom": null,
            "display": null,
            "flex": null,
            "flex_flow": null,
            "grid_area": null,
            "grid_auto_columns": null,
            "grid_auto_flow": null,
            "grid_auto_rows": null,
            "grid_column": null,
            "grid_gap": null,
            "grid_row": null,
            "grid_template_areas": null,
            "grid_template_columns": null,
            "grid_template_rows": null,
            "height": null,
            "justify_content": null,
            "justify_items": null,
            "left": null,
            "margin": null,
            "max_height": null,
            "max_width": null,
            "min_height": null,
            "min_width": null,
            "object_fit": null,
            "object_position": null,
            "order": null,
            "overflow": null,
            "padding": null,
            "right": null,
            "top": null,
            "visibility": null,
            "width": null
          }
        },
        "2460145a107b48f29c7c3fe6e3dc62e4": {
          "model_module": "@jupyter-widgets/controls",
          "model_name": "HTMLStyleModel",
          "model_module_version": "2.0.0",
          "state": {
            "_model_module": "@jupyter-widgets/controls",
            "_model_module_version": "2.0.0",
            "_model_name": "HTMLStyleModel",
            "_view_count": null,
            "_view_module": "@jupyter-widgets/base",
            "_view_module_version": "2.0.0",
            "_view_name": "StyleView",
            "background": null,
            "description_width": "",
            "font_size": null,
            "text_color": null
          }
        },
        "ada366681ce949bb8f01304a09a1f3d5": {
          "model_module": "@jupyter-widgets/base",
          "model_name": "LayoutModel",
          "model_module_version": "2.0.0",
          "state": {
            "_model_module": "@jupyter-widgets/base",
            "_model_module_version": "2.0.0",
            "_model_name": "LayoutModel",
            "_view_count": null,
            "_view_module": "@jupyter-widgets/base",
            "_view_module_version": "2.0.0",
            "_view_name": "LayoutView",
            "align_content": null,
            "align_items": null,
            "align_self": null,
            "border_bottom": null,
            "border_left": null,
            "border_right": null,
            "border_top": null,
            "bottom": null,
            "display": null,
            "flex": null,
            "flex_flow": null,
            "grid_area": null,
            "grid_auto_columns": null,
            "grid_auto_flow": null,
            "grid_auto_rows": null,
            "grid_column": null,
            "grid_gap": null,
            "grid_row": null,
            "grid_template_areas": null,
            "grid_template_columns": null,
            "grid_template_rows": null,
            "height": null,
            "justify_content": null,
            "justify_items": null,
            "left": null,
            "margin": null,
            "max_height": null,
            "max_width": null,
            "min_height": null,
            "min_width": null,
            "object_fit": null,
            "object_position": null,
            "order": null,
            "overflow": null,
            "padding": null,
            "right": null,
            "top": null,
            "visibility": null,
            "width": null
          }
        },
        "e1a049f801f44c24accd48716671f328": {
          "model_module": "@jupyter-widgets/controls",
          "model_name": "ProgressStyleModel",
          "model_module_version": "2.0.0",
          "state": {
            "_model_module": "@jupyter-widgets/controls",
            "_model_module_version": "2.0.0",
            "_model_name": "ProgressStyleModel",
            "_view_count": null,
            "_view_module": "@jupyter-widgets/base",
            "_view_module_version": "2.0.0",
            "_view_name": "StyleView",
            "bar_color": null,
            "description_width": ""
          }
        },
        "e583d8398a7c4589a253e2802c37e5c9": {
          "model_module": "@jupyter-widgets/base",
          "model_name": "LayoutModel",
          "model_module_version": "2.0.0",
          "state": {
            "_model_module": "@jupyter-widgets/base",
            "_model_module_version": "2.0.0",
            "_model_name": "LayoutModel",
            "_view_count": null,
            "_view_module": "@jupyter-widgets/base",
            "_view_module_version": "2.0.0",
            "_view_name": "LayoutView",
            "align_content": null,
            "align_items": null,
            "align_self": null,
            "border_bottom": null,
            "border_left": null,
            "border_right": null,
            "border_top": null,
            "bottom": null,
            "display": null,
            "flex": null,
            "flex_flow": null,
            "grid_area": null,
            "grid_auto_columns": null,
            "grid_auto_flow": null,
            "grid_auto_rows": null,
            "grid_column": null,
            "grid_gap": null,
            "grid_row": null,
            "grid_template_areas": null,
            "grid_template_columns": null,
            "grid_template_rows": null,
            "height": null,
            "justify_content": null,
            "justify_items": null,
            "left": null,
            "margin": null,
            "max_height": null,
            "max_width": null,
            "min_height": null,
            "min_width": null,
            "object_fit": null,
            "object_position": null,
            "order": null,
            "overflow": null,
            "padding": null,
            "right": null,
            "top": null,
            "visibility": null,
            "width": null
          }
        },
        "f7e4a2973f384b4ba6343759920fdea7": {
          "model_module": "@jupyter-widgets/controls",
          "model_name": "HTMLStyleModel",
          "model_module_version": "2.0.0",
          "state": {
            "_model_module": "@jupyter-widgets/controls",
            "_model_module_version": "2.0.0",
            "_model_name": "HTMLStyleModel",
            "_view_count": null,
            "_view_module": "@jupyter-widgets/base",
            "_view_module_version": "2.0.0",
            "_view_name": "StyleView",
            "background": null,
            "description_width": "",
            "font_size": null,
            "text_color": null
          }
        },
        "cd16197c29f84bd582670df48456da53": {
          "model_module": "@jupyter-widgets/controls",
          "model_name": "HBoxModel",
          "model_module_version": "2.0.0",
          "state": {
            "_dom_classes": [],
            "_model_module": "@jupyter-widgets/controls",
            "_model_module_version": "2.0.0",
            "_model_name": "HBoxModel",
            "_view_count": null,
            "_view_module": "@jupyter-widgets/controls",
            "_view_module_version": "2.0.0",
            "_view_name": "HBoxView",
            "box_style": "",
            "children": [
              "IPY_MODEL_133429a9498242179e14b6bf90ed003e",
              "IPY_MODEL_dcc7954be8b147f6928bdaaedd1ffd99",
              "IPY_MODEL_eba53a5266cd4492b7baf3b74712f75c"
            ],
            "layout": "IPY_MODEL_3d296a105dbb4ec7b32da6121ed51599",
            "tabbable": null,
            "tooltip": null
          }
        },
        "133429a9498242179e14b6bf90ed003e": {
          "model_module": "@jupyter-widgets/controls",
          "model_name": "HTMLModel",
          "model_module_version": "2.0.0",
          "state": {
            "_dom_classes": [],
            "_model_module": "@jupyter-widgets/controls",
            "_model_module_version": "2.0.0",
            "_model_name": "HTMLModel",
            "_view_count": null,
            "_view_module": "@jupyter-widgets/controls",
            "_view_module_version": "2.0.0",
            "_view_name": "HTMLView",
            "description": "",
            "description_allow_html": false,
            "layout": "IPY_MODEL_c0b8cd15318e4b1aa5605d8548a34b3e",
            "placeholder": "​",
            "style": "IPY_MODEL_d4783738bcc9422cabb657f982b7f973",
            "tabbable": null,
            "tooltip": null,
            "value": "100%"
          }
        },
        "dcc7954be8b147f6928bdaaedd1ffd99": {
          "model_module": "@jupyter-widgets/controls",
          "model_name": "FloatProgressModel",
          "model_module_version": "2.0.0",
          "state": {
            "_dom_classes": [],
            "_model_module": "@jupyter-widgets/controls",
            "_model_module_version": "2.0.0",
            "_model_name": "FloatProgressModel",
            "_view_count": null,
            "_view_module": "@jupyter-widgets/controls",
            "_view_module_version": "2.0.0",
            "_view_name": "ProgressView",
            "bar_style": "success",
            "description": "",
            "description_allow_html": false,
            "layout": "IPY_MODEL_0e8bb9c2ba194db4b0f48b2b6d12feb5",
            "max": 24,
            "min": 0,
            "orientation": "horizontal",
            "style": "IPY_MODEL_af3eb0a95e124d5793c9f73546195427",
            "tabbable": null,
            "tooltip": null,
            "value": 24
          }
        },
        "eba53a5266cd4492b7baf3b74712f75c": {
          "model_module": "@jupyter-widgets/controls",
          "model_name": "HTMLModel",
          "model_module_version": "2.0.0",
          "state": {
            "_dom_classes": [],
            "_model_module": "@jupyter-widgets/controls",
            "_model_module_version": "2.0.0",
            "_model_name": "HTMLModel",
            "_view_count": null,
            "_view_module": "@jupyter-widgets/controls",
            "_view_module_version": "2.0.0",
            "_view_name": "HTMLView",
            "description": "",
            "description_allow_html": false,
            "layout": "IPY_MODEL_7e09bf9b71f24c279afd5909293caab4",
            "placeholder": "​",
            "style": "IPY_MODEL_4f075373657542dfaa5857b3196e0a25",
            "tabbable": null,
            "tooltip": null,
            "value": " 24/24 [00:09&lt;00:00,  2.63it/s]"
          }
        },
        "3d296a105dbb4ec7b32da6121ed51599": {
          "model_module": "@jupyter-widgets/base",
          "model_name": "LayoutModel",
          "model_module_version": "2.0.0",
          "state": {
            "_model_module": "@jupyter-widgets/base",
            "_model_module_version": "2.0.0",
            "_model_name": "LayoutModel",
            "_view_count": null,
            "_view_module": "@jupyter-widgets/base",
            "_view_module_version": "2.0.0",
            "_view_name": "LayoutView",
            "align_content": null,
            "align_items": null,
            "align_self": null,
            "border_bottom": null,
            "border_left": null,
            "border_right": null,
            "border_top": null,
            "bottom": null,
            "display": null,
            "flex": null,
            "flex_flow": null,
            "grid_area": null,
            "grid_auto_columns": null,
            "grid_auto_flow": null,
            "grid_auto_rows": null,
            "grid_column": null,
            "grid_gap": null,
            "grid_row": null,
            "grid_template_areas": null,
            "grid_template_columns": null,
            "grid_template_rows": null,
            "height": null,
            "justify_content": null,
            "justify_items": null,
            "left": null,
            "margin": null,
            "max_height": null,
            "max_width": null,
            "min_height": null,
            "min_width": null,
            "object_fit": null,
            "object_position": null,
            "order": null,
            "overflow": null,
            "padding": null,
            "right": null,
            "top": null,
            "visibility": null,
            "width": null
          }
        },
        "c0b8cd15318e4b1aa5605d8548a34b3e": {
          "model_module": "@jupyter-widgets/base",
          "model_name": "LayoutModel",
          "model_module_version": "2.0.0",
          "state": {
            "_model_module": "@jupyter-widgets/base",
            "_model_module_version": "2.0.0",
            "_model_name": "LayoutModel",
            "_view_count": null,
            "_view_module": "@jupyter-widgets/base",
            "_view_module_version": "2.0.0",
            "_view_name": "LayoutView",
            "align_content": null,
            "align_items": null,
            "align_self": null,
            "border_bottom": null,
            "border_left": null,
            "border_right": null,
            "border_top": null,
            "bottom": null,
            "display": null,
            "flex": null,
            "flex_flow": null,
            "grid_area": null,
            "grid_auto_columns": null,
            "grid_auto_flow": null,
            "grid_auto_rows": null,
            "grid_column": null,
            "grid_gap": null,
            "grid_row": null,
            "grid_template_areas": null,
            "grid_template_columns": null,
            "grid_template_rows": null,
            "height": null,
            "justify_content": null,
            "justify_items": null,
            "left": null,
            "margin": null,
            "max_height": null,
            "max_width": null,
            "min_height": null,
            "min_width": null,
            "object_fit": null,
            "object_position": null,
            "order": null,
            "overflow": null,
            "padding": null,
            "right": null,
            "top": null,
            "visibility": null,
            "width": null
          }
        },
        "d4783738bcc9422cabb657f982b7f973": {
          "model_module": "@jupyter-widgets/controls",
          "model_name": "HTMLStyleModel",
          "model_module_version": "2.0.0",
          "state": {
            "_model_module": "@jupyter-widgets/controls",
            "_model_module_version": "2.0.0",
            "_model_name": "HTMLStyleModel",
            "_view_count": null,
            "_view_module": "@jupyter-widgets/base",
            "_view_module_version": "2.0.0",
            "_view_name": "StyleView",
            "background": null,
            "description_width": "",
            "font_size": null,
            "text_color": null
          }
        },
        "0e8bb9c2ba194db4b0f48b2b6d12feb5": {
          "model_module": "@jupyter-widgets/base",
          "model_name": "LayoutModel",
          "model_module_version": "2.0.0",
          "state": {
            "_model_module": "@jupyter-widgets/base",
            "_model_module_version": "2.0.0",
            "_model_name": "LayoutModel",
            "_view_count": null,
            "_view_module": "@jupyter-widgets/base",
            "_view_module_version": "2.0.0",
            "_view_name": "LayoutView",
            "align_content": null,
            "align_items": null,
            "align_self": null,
            "border_bottom": null,
            "border_left": null,
            "border_right": null,
            "border_top": null,
            "bottom": null,
            "display": null,
            "flex": null,
            "flex_flow": null,
            "grid_area": null,
            "grid_auto_columns": null,
            "grid_auto_flow": null,
            "grid_auto_rows": null,
            "grid_column": null,
            "grid_gap": null,
            "grid_row": null,
            "grid_template_areas": null,
            "grid_template_columns": null,
            "grid_template_rows": null,
            "height": null,
            "justify_content": null,
            "justify_items": null,
            "left": null,
            "margin": null,
            "max_height": null,
            "max_width": null,
            "min_height": null,
            "min_width": null,
            "object_fit": null,
            "object_position": null,
            "order": null,
            "overflow": null,
            "padding": null,
            "right": null,
            "top": null,
            "visibility": null,
            "width": null
          }
        },
        "af3eb0a95e124d5793c9f73546195427": {
          "model_module": "@jupyter-widgets/controls",
          "model_name": "ProgressStyleModel",
          "model_module_version": "2.0.0",
          "state": {
            "_model_module": "@jupyter-widgets/controls",
            "_model_module_version": "2.0.0",
            "_model_name": "ProgressStyleModel",
            "_view_count": null,
            "_view_module": "@jupyter-widgets/base",
            "_view_module_version": "2.0.0",
            "_view_name": "StyleView",
            "bar_color": null,
            "description_width": ""
          }
        },
        "7e09bf9b71f24c279afd5909293caab4": {
          "model_module": "@jupyter-widgets/base",
          "model_name": "LayoutModel",
          "model_module_version": "2.0.0",
          "state": {
            "_model_module": "@jupyter-widgets/base",
            "_model_module_version": "2.0.0",
            "_model_name": "LayoutModel",
            "_view_count": null,
            "_view_module": "@jupyter-widgets/base",
            "_view_module_version": "2.0.0",
            "_view_name": "LayoutView",
            "align_content": null,
            "align_items": null,
            "align_self": null,
            "border_bottom": null,
            "border_left": null,
            "border_right": null,
            "border_top": null,
            "bottom": null,
            "display": null,
            "flex": null,
            "flex_flow": null,
            "grid_area": null,
            "grid_auto_columns": null,
            "grid_auto_flow": null,
            "grid_auto_rows": null,
            "grid_column": null,
            "grid_gap": null,
            "grid_row": null,
            "grid_template_areas": null,
            "grid_template_columns": null,
            "grid_template_rows": null,
            "height": null,
            "justify_content": null,
            "justify_items": null,
            "left": null,
            "margin": null,
            "max_height": null,
            "max_width": null,
            "min_height": null,
            "min_width": null,
            "object_fit": null,
            "object_position": null,
            "order": null,
            "overflow": null,
            "padding": null,
            "right": null,
            "top": null,
            "visibility": null,
            "width": null
          }
        },
        "4f075373657542dfaa5857b3196e0a25": {
          "model_module": "@jupyter-widgets/controls",
          "model_name": "HTMLStyleModel",
          "model_module_version": "2.0.0",
          "state": {
            "_model_module": "@jupyter-widgets/controls",
            "_model_module_version": "2.0.0",
            "_model_name": "HTMLStyleModel",
            "_view_count": null,
            "_view_module": "@jupyter-widgets/base",
            "_view_module_version": "2.0.0",
            "_view_name": "StyleView",
            "background": null,
            "description_width": "",
            "font_size": null,
            "text_color": null
          }
        }
      }
    }
  },
  "nbformat": 4,
  "nbformat_minor": 5
}